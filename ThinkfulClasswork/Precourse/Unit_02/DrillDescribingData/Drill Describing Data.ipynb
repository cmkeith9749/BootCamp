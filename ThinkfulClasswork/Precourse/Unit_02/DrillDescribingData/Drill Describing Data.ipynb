{
 "cells": [
  {
   "cell_type": "code",
   "execution_count": 7,
   "metadata": {},
   "outputs": [],
   "source": [
    "import numpy as np\n",
    "import pandas as pd\n",
    "import statistics\n"
   ]
  },
  {
   "cell_type": "markdown",
   "metadata": {},
   "source": [
    "Create a data frame for the 3 differnt scenarios in drill.  Questions 1,3 and 4. "
   ]
  },
  {
   "cell_type": "code",
   "execution_count": 15,
   "metadata": {},
   "outputs": [
    {
     "name": "stdout",
     "output_type": "stream",
     "text": [
      "        original  cindy_bday  oliver_cut\n",
      "count   7.000000    7.000000    7.000000\n",
      "mean    9.857143   10.000000    9.000000\n",
      "std     2.734262    2.516611    4.242641\n",
      "min     6.000000    7.000000    1.000000\n",
      "25%     8.000000    8.000000    7.500000\n",
      "50%    10.000000   10.000000   10.000000\n",
      "75%    11.500000   11.500000   11.500000\n",
      "max    14.000000   14.000000   14.000000\n"
     ]
    }
   ],
   "source": [
    "brady =  pd.DataFrame()\n",
    "brady['original'] = pd.Series([14,12,11,10,8,8,6])   #6 Brady's plus Oliver\n",
    "brady['cindy_bday'] = pd.Series([14,12,11,10,8,8,7]) #Cindy has Birthday\n",
    "brady['oliver_cut'] = pd.Series([14,12,11,10,8,1,7]) #Oliver removed for Jessica\n",
    "print(brady.describe())\n"
   ]
  },
  {
   "cell_type": "code",
   "execution_count": 49,
   "metadata": {},
   "outputs": [
    {
     "name": "stdout",
     "output_type": "stream",
     "text": [
      "mean is:\n",
      "original       9.857143\n",
      "cindy_bday    10.000000\n",
      "oliver_cut     9.000000\n",
      "dtype: float64\n",
      "\r\n",
      "median is:\n",
      "original      10.0\n",
      "cindy_bday    10.0\n",
      "oliver_cut    10.0\n",
      "dtype: float64\n"
     ]
    }
   ],
   "source": [
    "print('mean is:')\n",
    "print(brady.apply(lambda x: np.mean(x)))\n",
    "print('\\r')\n",
    "print('median is:')\n",
    "print(brady.apply(lambda x: np.median(x)))\n",
    "\n",
    "\n",
    "\n"
   ]
  },
  {
   "cell_type": "code",
   "execution_count": 40,
   "metadata": {},
   "outputs": [
    {
     "name": "stdout",
     "output_type": "stream",
     "text": [
      "mode is 8\n"
     ]
    }
   ],
   "source": [
    "#print(brady.apply(lambda x:statistics.mode(x)) raises 'StatisticsError' for third column\n",
    "print('mode is ' + str(statistics.mode(brady['original'])))"
   ]
  },
  {
   "cell_type": "code",
   "execution_count": 50,
   "metadata": {},
   "outputs": [
    {
     "name": "stdout",
     "output_type": "stream",
     "text": [
      "variance is:\n",
      "original       6.408163\n",
      "cindy_bday     5.428571\n",
      "oliver_cut    15.428571\n",
      "dtype: float64\n",
      "\r\n",
      "standard deviation  is: \n",
      "original      2.531435\n",
      "cindy_bday    2.329929\n",
      "oliver_cut    3.927922\n",
      "dtype: float64\n",
      "\r\n",
      "standard error  is: \n",
      "original      0.956793\n",
      "cindy_bday    0.880631\n",
      "oliver_cut    1.484615\n",
      "dtype: float64\n"
     ]
    }
   ],
   "source": [
    "print ('variance is:')\n",
    "print((np.var(brady)))\n",
    "print('\\r')\n",
    "print('standard deviation  is: ')\n",
    "print(np.std(brady))\n",
    "print('\\r')\n",
    "print('standard error  is: ')\n",
    "print(brady.apply(lambda x: np.std(x) / np.sqrt(x.count())))"
   ]
  },
  {
   "cell_type": "markdown",
   "metadata": {},
   "source": [
    "On the 50th anniversary of The Brady Bunch, four different magazines asked their readers whether they were fans of the show. The answers were: TV Guide 20% fans Entertainment Weekly 23% fans Pop Culture Today 17% fans SciPhi Phanatic 5% fans\n",
    "\n",
    "Based on these numbers, what percentage of adult Americans would you estimate were Brady Bunch fans on the 50th anniversary of the show?\n"
   ]
  },
  {
   "cell_type": "markdown",
   "metadata": {},
   "source": [
    "Possibly could use results to estimate Brady Bunch fans if only adult responses could be utilized."
   ]
  },
  {
   "cell_type": "code",
   "execution_count": null,
   "metadata": {},
   "outputs": [],
   "source": []
  }
 ],
 "metadata": {
  "kernelspec": {
   "display_name": "Python 3",
   "language": "python",
   "name": "python3"
  },
  "language_info": {
   "codemirror_mode": {
    "name": "ipython",
    "version": 3
   },
   "file_extension": ".py",
   "mimetype": "text/x-python",
   "name": "python",
   "nbconvert_exporter": "python",
   "pygments_lexer": "ipython3",
   "version": "3.7.0"
  }
 },
 "nbformat": 4,
 "nbformat_minor": 2
}
