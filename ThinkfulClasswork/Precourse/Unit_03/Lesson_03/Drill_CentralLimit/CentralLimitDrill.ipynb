{
 "cells": [
  {
   "cell_type": "code",
   "execution_count": 1,
   "metadata": {},
   "outputs": [],
   "source": [
    "import numpy as np\n",
    "import pandas as pd\n",
    "import matplotlib.pyplot as plt\n",
    "%matplotlib inline\n",
    "import matplotlib.style as style\n",
    "style.use = 'fivethirtyeight'"
   ]
  },
  {
   "cell_type": "code",
   "execution_count": 2,
   "metadata": {},
   "outputs": [],
   "source": [
    "# create df of lacplace pdf's from list of dicts\n",
    "# format is    [{                                            }, ]\n",
    "def binomial_pdf(list):\n",
    "    ret = pd.DataFrame()\n",
    "    for i in range(len(list)):      \n",
    "        ret[list[i]['name']] = np.random.binomial(list[i]['n'], list[i]['p'], list[i]['size'])   \n",
    "    return ret"
   ]
  },
  {
   "cell_type": "code",
   "execution_count": 3,
   "metadata": {},
   "outputs": [],
   "source": [
    "# create df of gamma pdf's from list of dicts\n",
    "# format is    [{   }, ]  \n",
    "\n",
    "def gamma_pdf(list):\n",
    "    ret = pd.DataFrame()\n",
    "    for i in range(len(list)):      \n",
    "        ret[list[i]['name']] = np.random.gamma(list[i]['shape'], list[i]['scale'], list[i]['size'])  \n",
    "    return ret"
   ]
  },
  {
   "cell_type": "code",
   "execution_count": 4,
   "metadata": {},
   "outputs": [],
   "source": [
    "# create df of lacplace pdf's from list of dicts\n",
    "# format is    [{   }, ]  \n",
    "\n",
    "def laplace_pdf(list):\n",
    "    ret = pd.DataFrame()\n",
    "    for i in range(len(list)):      \n",
    "        ret[list[i]['name']] = np.random.laplace(loc=0.0, scale=1.0, size=10000)  \n",
    "    return ret"
   ]
  },
  {
   "cell_type": "code",
   "execution_count": 5,
   "metadata": {},
   "outputs": [],
   "source": [
    "def print_binomial_stats(list):\n",
    "    for i in range(len(list)):\n",
    "        mean = np.round(list[i]['n'] * list[i]['p'], 4)\n",
    "        std = np.round((mean * (1 - list[i]['p']))**.5, 4)\n",
    "        print('for a binomial diststribution with p = '+ str(list[i]['p']) + ' and n = ' + str(list[i]['n']))\n",
    "        print(' >>> mean is ' + str(mean))\n",
    "        print(' >>> standard deviation is ' + str(std))\n"
   ]
  },
  {
   "cell_type": "code",
   "execution_count": 6,
   "metadata": {},
   "outputs": [],
   "source": [
    "def print_sample_stats(df):\n",
    "    for label in df.columns.tolist():\n",
    "        mean = np.round(np.mean(df[label]), 4)\n",
    "        std = np.round(np.std(df[label], ddof=1), 4)\n",
    "        print('for sample of ' + label + ' : ')\n",
    "        print(' >>> mean is ' + str(mean))\n",
    "        print(' >>> standard deviation is ' + str(std))"
   ]
  },
  {
   "cell_type": "code",
   "execution_count": 7,
   "metadata": {},
   "outputs": [],
   "source": [
    "# take samples with replacement from df and return new df with samples n =number of samples\n",
    "\n",
    "def samples_from_df(df,n):\n",
    "    ret = pd.DataFrame()\n",
    "    for i in range(len(df.columns)):\n",
    "        ret[df.columns[i]] =np.random.choice(getattr(df, df.columns[i]), n, replace=True)\n",
    "        \n",
    "    return ret "
   ]
  },
  {
   "cell_type": "code",
   "execution_count": 8,
   "metadata": {},
   "outputs": [],
   "source": [
    "# this function plots twp overlapping histogram for laplace distributions\n",
    "# returns figure() of histograms, also plots in jupiter notebook\n",
    "\n",
    "def two_laplace_hists(df):\n",
    "    wdth = 12; hght = 8;     \n",
    "    fig = plt.figure(1, (wdth, hght) )                 \n",
    "    col1, col2 = df.columns.tolist()\n",
    "    ymin = 0\n",
    "    xmin = -10\n",
    "    xmax = 10\n",
    "    ymax = 20\n",
    "    nbins = 40\n",
    "\n",
    "    plt.axis([xmin, xmax, ymin, ymax])\n",
    "    plt.hist(df[col1], bins=nbins, alpha=0.5, label=col1)\n",
    "    plt.hist(df[col2], bins=nbins, alpha=0.5, label=col2)\n",
    "    plt.legend(loc='upper right') \n",
    "\n",
    "        \n",
    "    return fig"
   ]
  },
  {
   "cell_type": "code",
   "execution_count": 9,
   "metadata": {},
   "outputs": [],
   "source": [
    "# this function plots twp overlapping histogram for laplace distributions\n",
    "# returns figure() of histograms, also plots in jupiter notebook\n",
    "\n",
    "def two_gamma_hists(df):\n",
    "    wdth = 12; hght = 8;     \n",
    "    fig = plt.figure(1, (wdth, hght) )                 \n",
    "    col1, col2 = df.columns.tolist()\n",
    "    xmin = ymin = 0\n",
    "    xmax = int(np.round(max([df[col1].max(), df[col2].max()]), 0))\n",
    "    ymax = int(df[col1].count() / 5)\n",
    "    nbins = xmax * 2 \n",
    "\n",
    "    plt.axis([xmin, xmax, ymin, ymax])\n",
    "    plt.hist(df[col1], bins=nbins, alpha=0.5, label=col1)\n",
    "    plt.hist(df[col2], bins=nbins, alpha=0.5, label=col2)\n",
    "    plt.legend(loc='upper right') \n",
    "\n",
    "        \n",
    "    return fig"
   ]
  },
  {
   "cell_type": "code",
   "execution_count": 10,
   "metadata": {},
   "outputs": [],
   "source": [
    "# this function plots twp overlapping histogram for binomial distributions\n",
    "# returns figure() of histograms \n",
    "\n",
    "def two_binomial_hists(df):\n",
    "    wdth = 12; hght = 8;  # give   \n",
    "    fig = plt.figure(1, (wdth, hght) )                 \n",
    "    col1, col2 = df.columns.tolist()\n",
    "    xmin = ymin = 0\n",
    "    xmax = max([df[col1].max(), df[col2].max()]) + 1\n",
    "    ymax = max(int(df[col1].count() / (df[col1].std() * 2)), int(df[col2].count() / (df[col2].std() * 2)))\n",
    "    nbins = np.arange(xmax + 1)\n",
    "\n",
    "    plt.axis([xmin, xmax, ymin, ymax])\n",
    "    plt.hist(df[col1], bins=nbins, alpha=0.5, label='Population 1')\n",
    "    plt.hist(df[col2], bins=nbins, alpha=0.5, label='Population 2')\n",
    "    plt.legend(loc='upper right') \n",
    "\n",
    "        \n",
    "    return fig"
   ]
  },
  {
   "cell_type": "markdown",
   "metadata": {},
   "source": [
    "# DRILL - Exploring the Central Limit Theorem\n",
    "\n",
    "Now that you have some code to create your own populations, sample them, and compare the samples to the populations, it's time to experiment. Using your own Jupyter notebook, or a copy of the notebook from the previous assignment, reproduce the pop1 and pop2 populations and samples, using numpy's binomial function. Specifically, create two binomially distributed populations with n equal to 10 and size equal to 10000. The p-value of pop1 should be 0.2 and the p-value of pop2 should be 0.5. \n",
    "\n"
   ]
  },
  {
   "cell_type": "code",
   "execution_count": 11,
   "metadata": {},
   "outputs": [
    {
     "name": "stdout",
     "output_type": "stream",
     "text": [
      "[{'name': 'pop1', 'n': 10, 'p': 0.2, 'size': 10000}, {'name': 'pop2', 'n': 10, 'p': 0.5, 'size': 10000}]\n"
     ]
    }
   ],
   "source": [
    "# this is the 'given' per the task above\n",
    "# format is    [{                                            },      ]      \n",
    "my_binomials = [{'name':'pop1', 'n':10, 'p':0.2, 'size':10000},\n",
    "                {'name':'pop2', 'n':10, 'p':0.5, 'size':10000}\n",
    "               ]\n",
    "               \n",
    "print(my_binomials)\n"
   ]
  },
  {
   "cell_type": "code",
   "execution_count": 12,
   "metadata": {},
   "outputs": [
    {
     "name": "stdout",
     "output_type": "stream",
     "text": [
      "               pop1          pop2\n",
      "count  10000.000000  10000.000000\n",
      "mean       1.985100      5.011200\n",
      "std        1.259697      1.579596\n",
      "min        0.000000      0.000000\n",
      "25%        1.000000      4.000000\n",
      "50%        2.000000      5.000000\n",
      "75%        3.000000      6.000000\n",
      "max        7.000000     10.000000\n"
     ]
    }
   ],
   "source": [
    "populations = binomial_pdf(my_binomials)\n",
    "print(populations.describe())"
   ]
  },
  {
   "cell_type": "markdown",
   "metadata": {},
   "source": [
    "*Using a sample size of 100, calculate the means and standard deviations of your samples.*\n",
    "\n",
    "A binomial distribution is defined as B(n,p) where n is the number of trials and p is the success probability for each trial.  The mean will be n * p .  The standard devation will be (n * p + (1 - p))^ .50.  "
   ]
  },
  {
   "cell_type": "code",
   "execution_count": 13,
   "metadata": {},
   "outputs": [
    {
     "name": "stdout",
     "output_type": "stream",
     "text": [
      "for a binomial diststribution with p = 0.2 and n = 10\n",
      " >>> mean is 2.0\n",
      " >>> standard deviation is 1.2649\n",
      "for a binomial diststribution with p = 0.5 and n = 10\n",
      " >>> mean is 5.0\n",
      " >>> standard deviation is 1.5811\n"
     ]
    }
   ],
   "source": [
    "print_binomial_stats(my_binomials)"
   ]
  },
  {
   "cell_type": "code",
   "execution_count": 14,
   "metadata": {},
   "outputs": [
    {
     "name": "stdout",
     "output_type": "stream",
     "text": [
      "for sample of pop1 : \n",
      " >>> mean is 2.05\n",
      " >>> standard deviation is 1.3661\n",
      "for sample of pop2 : \n",
      " >>> mean is 5.31\n",
      " >>> standard deviation is 1.4263\n"
     ]
    },
    {
     "data": {
      "image/png": "[encoded data removed]",
      "text/plain": [
       "<Figure size 864x576 with 1 Axes>"
      ]
     },
     "metadata": {
      "needs_background": "light"
     },
     "output_type": "display_data"
    }
   ],
   "source": [
    "samples = samples_from_df(populations, 100) \n",
    "print_sample_stats(samples)\n",
    "plts = two_binomial_hists(samples)"
   ]
  },
  {
   "cell_type": "markdown",
   "metadata": {},
   "source": [
    "*For each of the following tasks, first write what you expect will happen, then code the changes and observe what does happen. Discuss the results with your mentor.\n",
    "\n",
    "**Increase** the size of your samples from **100 to 1000**, then calculate the means and standard deviations for your new samples and create histograms for each. Repeat this again, **decreasing** the size of your samples to **20**. What values change, and what remain the same?*\n",
    "\n",
    "The sample mean and standard devation are more likely to be closer to the population mean and standard devation as the sample size increases and less likely as the sample size decreases.  \n"
   ]
  },
  {
   "cell_type": "code",
   "execution_count": 15,
   "metadata": {},
   "outputs": [
    {
     "name": "stdout",
     "output_type": "stream",
     "text": [
      "for sample of pop1 : \n",
      " >>> mean is 2.008\n",
      " >>> standard deviation is 1.2327\n",
      "for sample of pop2 : \n",
      " >>> mean is 4.963\n",
      " >>> standard deviation is 1.5938\n"
     ]
    },
    {
     "data": {
      "image/png": "[encoded data removed]",
      "text/plain": [
       "<Figure size 864x576 with 1 Axes>"
      ]
     },
     "metadata": {
      "needs_background": "light"
     },
     "output_type": "display_data"
    }
   ],
   "source": [
    "samples = samples_from_df(populations, 1000) \n",
    "print_sample_stats(samples)\n",
    "plts = two_binomial_hists(samples)"
   ]
  },
  {
   "cell_type": "code",
   "execution_count": 16,
   "metadata": {},
   "outputs": [
    {
     "name": "stdout",
     "output_type": "stream",
     "text": [
      "for sample of pop1 : \n",
      " >>> mean is 1.75\n",
      " >>> standard deviation is 1.4464\n",
      "for sample of pop2 : \n",
      " >>> mean is 5.0\n",
      " >>> standard deviation is 1.6859\n"
     ]
    },
    {
     "data": {
      "image/png": "[encoded data removed]",
      "text/plain": [
       "<Figure size 864x576 with 1 Axes>"
      ]
     },
     "metadata": {
      "needs_background": "light"
     },
     "output_type": "display_data"
    }
   ],
   "source": [
    "samples = samples_from_df(populations, 20) \n",
    "print_sample_stats(samples)\n",
    "plts = two_binomial_hists(samples)\n"
   ]
  },
  {
   "cell_type": "markdown",
   "metadata": {},
   "source": [
    "Change the probability value (p in the NumPy documentation) for pop1 to 0.3, then take new samples and compute the t-statistic and p-value. \n",
    "\n"
   ]
  },
  {
   "cell_type": "code",
   "execution_count": 17,
   "metadata": {},
   "outputs": [],
   "source": [
    "from scipy.stats import ttest_ind"
   ]
  },
  {
   "cell_type": "code",
   "execution_count": 18,
   "metadata": {},
   "outputs": [
    {
     "name": "stdout",
     "output_type": "stream",
     "text": [
      "Ttest_indResult(statistic=-10.122474590949418, pvalue=1.2772670554074236e-19)\n"
     ]
    },
    {
     "data": {
      "image/png": "[encoded data removed]",
      "text/plain": [
       "<Figure size 864x576 with 1 Axes>"
      ]
     },
     "metadata": {
      "needs_background": "light"
     },
     "output_type": "display_data"
    }
   ],
   "source": [
    "my_binomials = [{'name':'pop1', 'n':10, 'p':0.3, 'size':10000},\n",
    "                {'name':'pop2', 'n':10, 'p':0.5, 'size':10000}\n",
    "               ]\n",
    "populations = binomial_pdf(my_binomials)\n",
    "samples = samples_from_df(populations, 100) \n",
    "print(ttest_ind(samples['pop1'], samples['pop2'], equal_var=False))\n",
    "plts = two_binomial_hists(samples)               \n"
   ]
  },
  {
   "cell_type": "markdown",
   "metadata": {},
   "source": [
    "*Then change the probability value p for group 1 to **0.4**, and do it again. What changes, and why?*\n",
    "\n",
    "There will be more overlap between the two histograms demonstrated by a reduction in the T statistic."
   ]
  },
  {
   "cell_type": "code",
   "execution_count": 19,
   "metadata": {},
   "outputs": [
    {
     "name": "stdout",
     "output_type": "stream",
     "text": [
      "Ttest_indResult(statistic=-5.826428105426764, pvalue=2.263891696077081e-08)\n"
     ]
    },
    {
     "data": {
      "image/png": "[encoded data removed]",
      "text/plain": [
       "<Figure size 864x576 with 1 Axes>"
      ]
     },
     "metadata": {
      "needs_background": "light"
     },
     "output_type": "display_data"
    }
   ],
   "source": [
    "my_binomials = [{'name':'pop1', 'n':10, 'p':0.4, 'size':10000},\n",
    "                {'name':'pop2', 'n':10, 'p':0.5, 'size':10000}\n",
    "               ]\n",
    "populations = binomial_pdf(my_binomials)\n",
    "samples = samples_from_df(populations, 100) \n",
    "print(ttest_ind(samples['pop1'], samples['pop2'], equal_var=False))\n",
    "plts = two_binomial_hists(samples) "
   ]
  },
  {
   "cell_type": "markdown",
   "metadata": {},
   "source": [
    "*Change the distribution of your populations from binomial to a distribution of your choice. Do the sample mean values still accurately represent the population values?*\n",
    "\n",
    "Initially tried with laplace, but my population means were not as expected.  Switched to gamma and the sample means do represent the populations well.  The gamma distributions may not be normal enough to utilize T statistic.  "
   ]
  },
  {
   "cell_type": "code",
   "execution_count": 20,
   "metadata": {},
   "outputs": [],
   "source": [
    "my_gamma = [{'name':'pop1', 'shape':2.0, 'scale':2.0, 'size':10000},\n",
    "            {'name':'pop2', 'shape':2.0, 'scale':3.0, 'size':10000}\n",
    "             ]"
   ]
  },
  {
   "cell_type": "code",
   "execution_count": 21,
   "metadata": {},
   "outputs": [
    {
     "data": {
      "text/html": [
       "<div>\n",
       "<style scoped>\n",
       "    .dataframe tbody tr th:only-of-type {\n",
       "        vertical-align: middle;\n",
       "    }\n",
       "\n",
       "    .dataframe tbody tr th {\n",
       "        vertical-align: top;\n",
       "    }\n",
       "\n",
       "    .dataframe thead th {\n",
       "        text-align: right;\n",
       "    }\n",
       "</style>\n",
       "<table border=\"1\" class=\"dataframe\">\n",
       "  <thead>\n",
       "    <tr style=\"text-align: right;\">\n",
       "      <th></th>\n",
       "      <th>pop1</th>\n",
       "      <th>pop2</th>\n",
       "    </tr>\n",
       "  </thead>\n",
       "  <tbody>\n",
       "    <tr>\n",
       "      <th>count</th>\n",
       "      <td>10000.000000</td>\n",
       "      <td>10000.000000</td>\n",
       "    </tr>\n",
       "    <tr>\n",
       "      <th>mean</th>\n",
       "      <td>3.966504</td>\n",
       "      <td>5.962448</td>\n",
       "    </tr>\n",
       "    <tr>\n",
       "      <th>std</th>\n",
       "      <td>2.765311</td>\n",
       "      <td>4.240194</td>\n",
       "    </tr>\n",
       "    <tr>\n",
       "      <th>min</th>\n",
       "      <td>0.008620</td>\n",
       "      <td>0.087675</td>\n",
       "    </tr>\n",
       "    <tr>\n",
       "      <th>25%</th>\n",
       "      <td>1.887732</td>\n",
       "      <td>2.843507</td>\n",
       "    </tr>\n",
       "    <tr>\n",
       "      <th>50%</th>\n",
       "      <td>3.367271</td>\n",
       "      <td>4.967198</td>\n",
       "    </tr>\n",
       "    <tr>\n",
       "      <th>75%</th>\n",
       "      <td>5.383493</td>\n",
       "      <td>8.075092</td>\n",
       "    </tr>\n",
       "    <tr>\n",
       "      <th>max</th>\n",
       "      <td>23.150991</td>\n",
       "      <td>32.217044</td>\n",
       "    </tr>\n",
       "  </tbody>\n",
       "</table>\n",
       "</div>"
      ],
      "text/plain": [
       "               pop1          pop2\n",
       "count  10000.000000  10000.000000\n",
       "mean       3.966504      5.962448\n",
       "std        2.765311      4.240194\n",
       "min        0.008620      0.087675\n",
       "25%        1.887732      2.843507\n",
       "50%        3.367271      4.967198\n",
       "75%        5.383493      8.075092\n",
       "max       23.150991     32.217044"
      ]
     },
     "execution_count": 21,
     "metadata": {},
     "output_type": "execute_result"
    }
   ],
   "source": [
    "populations  = gamma_pdf(my_gamma)\n",
    "populations.describe()"
   ]
  },
  {
   "cell_type": "code",
   "execution_count": 22,
   "metadata": {},
   "outputs": [
    {
     "data": {
      "text/html": [
       "<div>\n",
       "<style scoped>\n",
       "    .dataframe tbody tr th:only-of-type {\n",
       "        vertical-align: middle;\n",
       "    }\n",
       "\n",
       "    .dataframe tbody tr th {\n",
       "        vertical-align: top;\n",
       "    }\n",
       "\n",
       "    .dataframe thead th {\n",
       "        text-align: right;\n",
       "    }\n",
       "</style>\n",
       "<table border=\"1\" class=\"dataframe\">\n",
       "  <thead>\n",
       "    <tr style=\"text-align: right;\">\n",
       "      <th></th>\n",
       "      <th>pop1</th>\n",
       "      <th>pop2</th>\n",
       "    </tr>\n",
       "  </thead>\n",
       "  <tbody>\n",
       "    <tr>\n",
       "      <th>count</th>\n",
       "      <td>100.000000</td>\n",
       "      <td>100.000000</td>\n",
       "    </tr>\n",
       "    <tr>\n",
       "      <th>mean</th>\n",
       "      <td>3.730000</td>\n",
       "      <td>4.980000</td>\n",
       "    </tr>\n",
       "    <tr>\n",
       "      <th>std</th>\n",
       "      <td>1.509933</td>\n",
       "      <td>1.524083</td>\n",
       "    </tr>\n",
       "    <tr>\n",
       "      <th>min</th>\n",
       "      <td>0.000000</td>\n",
       "      <td>1.000000</td>\n",
       "    </tr>\n",
       "    <tr>\n",
       "      <th>25%</th>\n",
       "      <td>3.000000</td>\n",
       "      <td>4.000000</td>\n",
       "    </tr>\n",
       "    <tr>\n",
       "      <th>50%</th>\n",
       "      <td>3.500000</td>\n",
       "      <td>5.000000</td>\n",
       "    </tr>\n",
       "    <tr>\n",
       "      <th>75%</th>\n",
       "      <td>5.000000</td>\n",
       "      <td>6.000000</td>\n",
       "    </tr>\n",
       "    <tr>\n",
       "      <th>max</th>\n",
       "      <td>7.000000</td>\n",
       "      <td>8.000000</td>\n",
       "    </tr>\n",
       "  </tbody>\n",
       "</table>\n",
       "</div>"
      ],
      "text/plain": [
       "             pop1        pop2\n",
       "count  100.000000  100.000000\n",
       "mean     3.730000    4.980000\n",
       "std      1.509933    1.524083\n",
       "min      0.000000    1.000000\n",
       "25%      3.000000    4.000000\n",
       "50%      3.500000    5.000000\n",
       "75%      5.000000    6.000000\n",
       "max      7.000000    8.000000"
      ]
     },
     "execution_count": 22,
     "metadata": {},
     "output_type": "execute_result"
    }
   ],
   "source": [
    "samples.describe()"
   ]
  },
  {
   "cell_type": "code",
   "execution_count": 23,
   "metadata": {},
   "outputs": [
    {
     "name": "stdout",
     "output_type": "stream",
     "text": [
      "Ttest_indResult(statistic=-3.9884117114207616, pvalue=9.692424801381265e-05)\n"
     ]
    },
    {
     "data": {
      "image/png": "[encoded data removed]",
      "text/plain": [
       "<Figure size 864x576 with 1 Axes>"
      ]
     },
     "metadata": {
      "needs_background": "light"
     },
     "output_type": "display_data"
    }
   ],
   "source": [
    "samples = samples_from_df(populations, 100) \n",
    "print(ttest_ind(samples['pop1'], samples['pop2'], equal_var=False))\n",
    "plts = two_gamma_hists(samples) "
   ]
  },
  {
   "cell_type": "code",
   "execution_count": 24,
   "metadata": {},
   "outputs": [],
   "source": [
    "my_laplace = [{'name':'pop1', 'loc':1.0, 'scale':1.0, 'size':10000},\n",
    "              {'name':'pop2', 'loc':3.0, 'scale':2.0, 'size':10000}\n",
    "             ]"
   ]
  },
  {
   "cell_type": "code",
   "execution_count": 25,
   "metadata": {},
   "outputs": [
    {
     "data": {
      "text/html": [
       "<div>\n",
       "<style scoped>\n",
       "    .dataframe tbody tr th:only-of-type {\n",
       "        vertical-align: middle;\n",
       "    }\n",
       "\n",
       "    .dataframe tbody tr th {\n",
       "        vertical-align: top;\n",
       "    }\n",
       "\n",
       "    .dataframe thead th {\n",
       "        text-align: right;\n",
       "    }\n",
       "</style>\n",
       "<table border=\"1\" class=\"dataframe\">\n",
       "  <thead>\n",
       "    <tr style=\"text-align: right;\">\n",
       "      <th></th>\n",
       "      <th>pop1</th>\n",
       "      <th>pop2</th>\n",
       "    </tr>\n",
       "  </thead>\n",
       "  <tbody>\n",
       "    <tr>\n",
       "      <th>count</th>\n",
       "      <td>10000.000000</td>\n",
       "      <td>10000.000000</td>\n",
       "    </tr>\n",
       "    <tr>\n",
       "      <th>mean</th>\n",
       "      <td>-0.001451</td>\n",
       "      <td>0.009408</td>\n",
       "    </tr>\n",
       "    <tr>\n",
       "      <th>std</th>\n",
       "      <td>1.424887</td>\n",
       "      <td>1.363717</td>\n",
       "    </tr>\n",
       "    <tr>\n",
       "      <th>min</th>\n",
       "      <td>-9.970361</td>\n",
       "      <td>-7.485090</td>\n",
       "    </tr>\n",
       "    <tr>\n",
       "      <th>25%</th>\n",
       "      <td>-0.721101</td>\n",
       "      <td>-0.655767</td>\n",
       "    </tr>\n",
       "    <tr>\n",
       "      <th>50%</th>\n",
       "      <td>-0.008322</td>\n",
       "      <td>0.001466</td>\n",
       "    </tr>\n",
       "    <tr>\n",
       "      <th>75%</th>\n",
       "      <td>0.705118</td>\n",
       "      <td>0.679144</td>\n",
       "    </tr>\n",
       "    <tr>\n",
       "      <th>max</th>\n",
       "      <td>11.018968</td>\n",
       "      <td>7.632775</td>\n",
       "    </tr>\n",
       "  </tbody>\n",
       "</table>\n",
       "</div>"
      ],
      "text/plain": [
       "               pop1          pop2\n",
       "count  10000.000000  10000.000000\n",
       "mean      -0.001451      0.009408\n",
       "std        1.424887      1.363717\n",
       "min       -9.970361     -7.485090\n",
       "25%       -0.721101     -0.655767\n",
       "50%       -0.008322      0.001466\n",
       "75%        0.705118      0.679144\n",
       "max       11.018968      7.632775"
      ]
     },
     "execution_count": 25,
     "metadata": {},
     "output_type": "execute_result"
    }
   ],
   "source": [
    "populations  = laplace_pdf(my_laplace)\n",
    "populations.describe()"
   ]
  },
  {
   "cell_type": "code",
   "execution_count": 26,
   "metadata": {},
   "outputs": [
    {
     "name": "stdout",
     "output_type": "stream",
     "text": [
      "for sample of pop1 : \n",
      " >>> mean is 0.0253\n",
      " >>> standard deviation is 1.3766\n",
      "for sample of pop2 : \n",
      " >>> mean is 0.1333\n",
      " >>> standard deviation is 1.2407\n",
      "Ttest_indResult(statistic=-0.5831703081538516, pvalue=0.5604493978142088)\n"
     ]
    },
    {
     "data": {
      "image/png": "[encoded data removed]",
      "text/plain": [
       "<Figure size 864x576 with 1 Axes>"
      ]
     },
     "metadata": {
      "needs_background": "light"
     },
     "output_type": "display_data"
    }
   ],
   "source": [
    "samples = samples_from_df(populations, 100)\n",
    "print_sample_stats(samples)\n",
    "print(ttest_ind(samples['pop1'], samples['pop2'], equal_var=False))\n",
    "plts = two_laplace_hists(samples) "
   ]
  }
 ],
 "metadata": {
  "kernelspec": {
   "display_name": "Python 3",
   "language": "python",
   "name": "python3"
  },
  "language_info": {
   "codemirror_mode": {
    "name": "ipython",
    "version": 3
   },
   "file_extension": ".py",
   "mimetype": "text/x-python",
   "name": "python",
   "nbconvert_exporter": "python",
   "pygments_lexer": "ipython3",
   "version": "3.7.0"
  }
 },
 "nbformat": 4,
 "nbformat_minor": 2
}
