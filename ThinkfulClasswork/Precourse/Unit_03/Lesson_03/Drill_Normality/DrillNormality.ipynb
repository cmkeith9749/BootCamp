{
 "cells": [
  {
   "cell_type": "code",
   "execution_count": 1,
   "metadata": {},
   "outputs": [],
   "source": [
    "import numpy as np\n",
    "import pandas as pd\n",
    "import matplotlib.pyplot as plt\n",
    "%matplotlib inline\n",
    "import matplotlib.style as style\n"
   ]
  },
  {
   "cell_type": "markdown",
   "metadata": {},
   "source": [
    "## DRILL - Descriptive Statistics and Normality"
   ]
  },
  {
   "cell_type": "markdown",
   "metadata": {},
   "source": [
    "*To complete the following drills, you'll need to use your Python skills to create some datasets, then use your new statistical knowledge to summarize them. **Choose 6 distributions** from the list of random distributions available in NumPy, called “Distributions”*"
   ]
  },
  {
   "cell_type": "markdown",
   "metadata": {},
   "source": [
    "1. *Generate a random variable with **100 datapoints** using the code distributionvar = np.random.distributionname([arguments], 100), replacing distributionvar with an appropriate variable name and distributionname with the name of the distribution you’ve chosen, and filling in the empty space in the parentheses with your chosen values for the appropriate parameters. If you feel uncertain about how to do this, go back to the “Other Distributions” assignment for examples of code to use as a starting point.*"
   ]
  },
  {
   "cell_type": "code",
   "execution_count": 82,
   "metadata": {},
   "outputs": [],
   "source": [
    "# this is the 'given' per the task above\n",
    "#     format is    {'method'     : {ID : {kwargs                             }},     } \n",
    "my_distributions = {'binomial'   : {1  : {'n':3,      'p':0.75,    'size':100}},\n",
    "                     'chisquare' : {1  : {'df':4,                  'size':100}},\n",
    "                     'gamma'     : {1  : {'shape':5,  'scale':1.0, 'size':100}},\n",
    "                     'laplace'   : {1  : {'loc':0.0,  'scale':1.0, 'size':100}},\n",
    "                     'lognormal' : {1  : {'mean':0.0, 'sigma':1.0, 'size':100}},\n",
    "                     'weibull'   : {1  : {'a':5,                   'size':100}}           \n",
    "                    }"
   ]
  },
  {
   "cell_type": "code",
   "execution_count": 81,
   "metadata": {},
   "outputs": [
    {
     "name": "stdout",
     "output_type": "stream",
     "text": [
      "dict_keys(['binomial', 'chisquare', 'gamma', 'laplace', 'lognormal', 'weibull'])\n",
      "dict_keys([2])\n"
     ]
    }
   ],
   "source": [
    "print(my_distributions.keys())\n",
    "print(my_distributions['weibull'].keys())"
   ]
  },
  {
   "cell_type": "code",
   "execution_count": 83,
   "metadata": {},
   "outputs": [],
   "source": [
    "# create df from numpy pdf's from dict {'distribution' : {kwargs}\n",
    "\n",
    "def var_pdfs(dict):\n",
    "    df = pd.DataFrame()\n",
    "    for key in dict.keys():\n",
    "        for ky in dict[key].keys():\n",
    "            col = key + '_' + str(ky).rjust(3,'0')\n",
    "            df[col] = getattr(np.random, key)(**dict[key][ky])    \n",
    "    return df"
   ]
  },
  {
   "cell_type": "code",
   "execution_count": 84,
   "metadata": {},
   "outputs": [
    {
     "data": {
      "text/html": [
       "<div>\n",
       "<style scoped>\n",
       "    .dataframe tbody tr th:only-of-type {\n",
       "        vertical-align: middle;\n",
       "    }\n",
       "\n",
       "    .dataframe tbody tr th {\n",
       "        vertical-align: top;\n",
       "    }\n",
       "\n",
       "    .dataframe thead th {\n",
       "        text-align: right;\n",
       "    }\n",
       "</style>\n",
       "<table border=\"1\" class=\"dataframe\">\n",
       "  <thead>\n",
       "    <tr style=\"text-align: right;\">\n",
       "      <th></th>\n",
       "      <th>binomial_001</th>\n",
       "      <th>chisquare_001</th>\n",
       "      <th>gamma_001</th>\n",
       "      <th>laplace_001</th>\n",
       "      <th>lognormal_001</th>\n",
       "      <th>weibull_001</th>\n",
       "    </tr>\n",
       "  </thead>\n",
       "  <tbody>\n",
       "    <tr>\n",
       "      <th>count</th>\n",
       "      <td>100.000000</td>\n",
       "      <td>100.000000</td>\n",
       "      <td>100.000000</td>\n",
       "      <td>100.000000</td>\n",
       "      <td>100.000000</td>\n",
       "      <td>100.000000</td>\n",
       "    </tr>\n",
       "    <tr>\n",
       "      <th>mean</th>\n",
       "      <td>2.170000</td>\n",
       "      <td>3.648548</td>\n",
       "      <td>5.163985</td>\n",
       "      <td>-0.196805</td>\n",
       "      <td>1.171047</td>\n",
       "      <td>0.951297</td>\n",
       "    </tr>\n",
       "    <tr>\n",
       "      <th>std</th>\n",
       "      <td>0.817177</td>\n",
       "      <td>2.408700</td>\n",
       "      <td>2.420298</td>\n",
       "      <td>1.555749</td>\n",
       "      <td>1.221526</td>\n",
       "      <td>0.216610</td>\n",
       "    </tr>\n",
       "    <tr>\n",
       "      <th>min</th>\n",
       "      <td>0.000000</td>\n",
       "      <td>0.557724</td>\n",
       "      <td>1.260959</td>\n",
       "      <td>-5.362852</td>\n",
       "      <td>0.091150</td>\n",
       "      <td>0.351738</td>\n",
       "    </tr>\n",
       "    <tr>\n",
       "      <th>25%</th>\n",
       "      <td>2.000000</td>\n",
       "      <td>1.665791</td>\n",
       "      <td>3.284773</td>\n",
       "      <td>-0.878614</td>\n",
       "      <td>0.475199</td>\n",
       "      <td>0.825556</td>\n",
       "    </tr>\n",
       "    <tr>\n",
       "      <th>50%</th>\n",
       "      <td>2.000000</td>\n",
       "      <td>3.135598</td>\n",
       "      <td>5.245537</td>\n",
       "      <td>0.007857</td>\n",
       "      <td>0.860301</td>\n",
       "      <td>0.960947</td>\n",
       "    </tr>\n",
       "    <tr>\n",
       "      <th>75%</th>\n",
       "      <td>3.000000</td>\n",
       "      <td>5.086472</td>\n",
       "      <td>6.338441</td>\n",
       "      <td>0.617181</td>\n",
       "      <td>1.329496</td>\n",
       "      <td>1.126834</td>\n",
       "    </tr>\n",
       "    <tr>\n",
       "      <th>max</th>\n",
       "      <td>3.000000</td>\n",
       "      <td>13.630876</td>\n",
       "      <td>11.662599</td>\n",
       "      <td>5.694809</td>\n",
       "      <td>8.488408</td>\n",
       "      <td>1.331439</td>\n",
       "    </tr>\n",
       "  </tbody>\n",
       "</table>\n",
       "</div>"
      ],
      "text/plain": [
       "       binomial_001  chisquare_001   gamma_001  laplace_001  lognormal_001  \\\n",
       "count    100.000000     100.000000  100.000000   100.000000     100.000000   \n",
       "mean       2.170000       3.648548    5.163985    -0.196805       1.171047   \n",
       "std        0.817177       2.408700    2.420298     1.555749       1.221526   \n",
       "min        0.000000       0.557724    1.260959    -5.362852       0.091150   \n",
       "25%        2.000000       1.665791    3.284773    -0.878614       0.475199   \n",
       "50%        2.000000       3.135598    5.245537     0.007857       0.860301   \n",
       "75%        3.000000       5.086472    6.338441     0.617181       1.329496   \n",
       "max        3.000000      13.630876   11.662599     5.694809       8.488408   \n",
       "\n",
       "       weibull_001  \n",
       "count   100.000000  \n",
       "mean      0.951297  \n",
       "std       0.216610  \n",
       "min       0.351738  \n",
       "25%       0.825556  \n",
       "50%       0.960947  \n",
       "75%       1.126834  \n",
       "max       1.331439  "
      ]
     },
     "execution_count": 84,
     "metadata": {},
     "output_type": "execute_result"
    }
   ],
   "source": [
    "my_distr_df = var_pdfs(my_distributions)\n",
    "my_distr_df.describe()"
   ]
  },
  {
   "cell_type": "code",
   "execution_count": 79,
   "metadata": {},
   "outputs": [
    {
     "name": "stdout",
     "output_type": "stream",
     "text": [
      "Index(['binomial_001', 'chisquare_001', 'gamma_001', 'laplace_001',\n",
      "       'lognormal_001', 'weibull_002'],\n",
      "      dtype='object')\n"
     ]
    }
   ],
   "source": [
    "print(my_distr_df.columns)"
   ]
  },
  {
   "cell_type": "markdown",
   "metadata": {},
   "source": [
    "2. *Graph the variable using a histogram.*\n",
    "3. *Compute the mean and standard deviation and plot them as vertical lines on the histogram. (Hint: the “When Does It Break?” assignment you just completed can help you here.)*"
   ]
  },
  {
   "cell_type": "code",
   "execution_count": 116,
   "metadata": {},
   "outputs": [],
   "source": [
    "# this function plots a histogram per questions 2. and 3. above\n",
    "# returns figure() of histograms in two column formaT from each DataFrame column\n",
    "\n"
   ]
  },
  {
   "cell_type": "code",
   "execution_count": 47,
   "metadata": {},
   "outputs": [],
   "source": [
    "style.use = 'fivethirtyeight'"
   ]
  },
  {
   "cell_type": "code",
   "execution_count": 48,
   "metadata": {},
   "outputs": [
    {
     "data": {
      "image/png": "[encoded data removed]",
      "text/plain": [
       "<Figure size 1152x1296 with 6 Axes>"
      ]
     },
     "metadata": {
      "needs_background": "light"
     },
     "output_type": "display_data"
    }
   ],
   "source": [
    "my_plot = hists_from_df(my_distr_df)"
   ]
  },
  {
   "cell_type": "markdown",
   "metadata": {},
   "source": [
    "4. *Evaluate whether the descriptive statistics provided useful information about the variable. Can you identify any common characteristics of the distributions that could be usefully described using the mean and/or standard deviation, versus the ones that could not?*\n",
    "\n",
    "Whether the mean and standard deviation are useful statistics depends on the distribution shape or how it relates to a Normal distribution. With respect to my six distributions, for the Binomial distribution both mean and standard deviation are not useful. Both statistics will describe the Laplace distribution. For the Log-normal distribution, the mean is useful while the standard deviation is not due to the skewed shape. For the Gamma, Weibull and Chi-square distribution it will depend on the shape parameters with the mean typically being relavent while the standard deviation is not. \n",
    " \n"
   ]
  },
  {
   "cell_type": "markdown",
   "metadata": {},
   "source": [
    "*Additionally:*\n",
    "\n",
    "1. *Generate two normally-distributed variables, one with a mean of 5 and standard deviation of 0.5, and the other with a mean of 10 and standard deviation of 1.0*\n",
    "2. *Add them together to create a third variable.*"
   ]
  },
  {
   "cell_type": "code",
   "execution_count": 176,
   "metadata": {},
   "outputs": [],
   "source": [
    "# this is the 'given' per the task above\n",
    "#       format is    {'method' : {ID : {kwargs                             }},     } \n",
    "more_distributions = {'normal' : {1  : {'loc':5.0,  'scale':0.5, 'size':1000},\n",
    "                                  2  : {'loc':10.0, 'scale':1.0, 'size':1000}}\n",
    "                     }"
   ]
  },
  {
   "cell_type": "code",
   "execution_count": 181,
   "metadata": {},
   "outputs": [
    {
     "data": {
      "text/html": [
       "<div>\n",
       "<style scoped>\n",
       "    .dataframe tbody tr th:only-of-type {\n",
       "        vertical-align: middle;\n",
       "    }\n",
       "\n",
       "    .dataframe tbody tr th {\n",
       "        vertical-align: top;\n",
       "    }\n",
       "\n",
       "    .dataframe thead th {\n",
       "        text-align: right;\n",
       "    }\n",
       "</style>\n",
       "<table border=\"1\" class=\"dataframe\">\n",
       "  <thead>\n",
       "    <tr style=\"text-align: right;\">\n",
       "      <th></th>\n",
       "      <th>normal_001</th>\n",
       "      <th>normal_002</th>\n",
       "      <th>add_1_2</th>\n",
       "    </tr>\n",
       "  </thead>\n",
       "  <tbody>\n",
       "    <tr>\n",
       "      <th>count</th>\n",
       "      <td>1000.000000</td>\n",
       "      <td>1000.000000</td>\n",
       "      <td>1000.000000</td>\n",
       "    </tr>\n",
       "    <tr>\n",
       "      <th>mean</th>\n",
       "      <td>4.996200</td>\n",
       "      <td>10.065105</td>\n",
       "      <td>15.061305</td>\n",
       "    </tr>\n",
       "    <tr>\n",
       "      <th>std</th>\n",
       "      <td>0.500036</td>\n",
       "      <td>1.033694</td>\n",
       "      <td>1.125854</td>\n",
       "    </tr>\n",
       "    <tr>\n",
       "      <th>min</th>\n",
       "      <td>3.446548</td>\n",
       "      <td>6.992427</td>\n",
       "      <td>11.629363</td>\n",
       "    </tr>\n",
       "    <tr>\n",
       "      <th>25%</th>\n",
       "      <td>4.659629</td>\n",
       "      <td>9.359109</td>\n",
       "      <td>14.301206</td>\n",
       "    </tr>\n",
       "    <tr>\n",
       "      <th>50%</th>\n",
       "      <td>4.989836</td>\n",
       "      <td>10.034507</td>\n",
       "      <td>15.034294</td>\n",
       "    </tr>\n",
       "    <tr>\n",
       "      <th>75%</th>\n",
       "      <td>5.339193</td>\n",
       "      <td>10.762280</td>\n",
       "      <td>15.776648</td>\n",
       "    </tr>\n",
       "    <tr>\n",
       "      <th>max</th>\n",
       "      <td>6.898345</td>\n",
       "      <td>13.486020</td>\n",
       "      <td>18.607861</td>\n",
       "    </tr>\n",
       "  </tbody>\n",
       "</table>\n",
       "</div>"
      ],
      "text/plain": [
       "        normal_001   normal_002      add_1_2\n",
       "count  1000.000000  1000.000000  1000.000000\n",
       "mean      4.996200    10.065105    15.061305\n",
       "std       0.500036     1.033694     1.125854\n",
       "min       3.446548     6.992427    11.629363\n",
       "25%       4.659629     9.359109    14.301206\n",
       "50%       4.989836    10.034507    15.034294\n",
       "75%       5.339193    10.762280    15.776648\n",
       "max       6.898345    13.486020    18.607861"
      ]
     },
     "execution_count": 181,
     "metadata": {},
     "output_type": "execute_result"
    }
   ],
   "source": [
    "more_distr_df = var_pdfs(more_distributions)\n",
    "more_distr_df['add_1_2'] = more_distr_df[more_distr_df.columns[0]] + more_distr_df[more_distr_df.columns[1]]\n",
    "more_distr_df.describe()"
   ]
  },
  {
   "cell_type": "markdown",
   "metadata": {},
   "source": [
    "3. *Graph the third variable using a histogram.*\n",
    "4. *Compute the mean and standard deviation and plot them as vertical lines on the histogram.*\n",
    "5. *Evaluate the descriptive statistics against the data.*"
   ]
  },
  {
   "cell_type": "code",
   "execution_count": 182,
   "metadata": {},
   "outputs": [],
   "source": [
    "def hists_axis_set(df):\n",
    "    col_wdth = 12; row_hght = 9; ncols = 1   # given\n",
    "    nrows = len(df.columns)\n",
    "    nbins = 50\n",
    "    xmin = 3; ymin = 0; xmax = 18; ymax = 25\n",
    "    \n",
    "    fig = plt.figure(1, (col_wdth * ncols, row_hght * nrows))\n",
    "                     \n",
    "    index = 0\n",
    "    for col in df.columns:\n",
    "        index += 1\n",
    "        plt.subplot(nrows, ncols, index)\n",
    "        plt.hist(getattr(df, col), bins=nbins, color='c')\n",
    "\n",
    "        #plt.axis([xmin, xmax, ymin, ymax])\n",
    "        #plt.text(60, .025, r'$\\mu=100,\\ \\sigma=15$')\n",
    "        \n",
    "        plt.axvline(df[col].mean(), color='b', linestyle='solid', linewidth=2)                   # vertical line at the mean.    \n",
    "        plt.axvline(df[col].mean() + df[col].std(), color='b', linestyle='dashed', linewidth=2)  # dashed line at +1 std dev\n",
    "        plt.axvline(df[col].mean() - df[col].std(), color='b', linestyle='dashed', linewidth=2)  # dashed line at -1 std dev\n",
    "        plt.title(col + ' distribution')\n",
    "        \n",
    "    return fig"
   ]
  },
  {
   "cell_type": "code",
   "execution_count": 183,
   "metadata": {},
   "outputs": [
    {
     "data": {
      "image/png": "[encoded data removed]",
      "text/plain": [
       "<Figure size 864x1944 with 3 Axes>"
      ]
     },
     "metadata": {
      "needs_background": "light"
     },
     "output_type": "display_data"
    }
   ],
   "source": [
    "more_plot = hists_axis_set(more_distr_df)"
   ]
  },
  {
   "cell_type": "code",
   "execution_count": null,
   "metadata": {},
   "outputs": [],
   "source": []
  }
 ],
 "metadata": {
  "kernelspec": {
   "display_name": "Python 3",
   "language": "python",
   "name": "python3"
  },
  "language_info": {
   "codemirror_mode": {
    "name": "ipython",
    "version": 3
   },
   "file_extension": ".py",
   "mimetype": "text/x-python",
   "name": "python",
   "nbconvert_exporter": "python",
   "pygments_lexer": "ipython3",
   "version": "3.7.0"
  }
 },
 "nbformat": 4,
 "nbformat_minor": 2
}
