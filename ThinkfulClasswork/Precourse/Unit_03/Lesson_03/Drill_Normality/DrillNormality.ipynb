{
 "cells": [
  {
   "cell_type": "code",
   "execution_count": 1,
   "metadata": {},
   "outputs": [],
   "source": [
    "import numpy as np\n",
    "import pandas as pd\n",
    "import matplotlib.pyplot as plt\n",
    "%matplotlib inline\n",
    "import matplotlib.style as style\n",
    "style.use = 'fivethirtyeight'\n"
   ]
  },
  {
   "cell_type": "markdown",
   "metadata": {},
   "source": [
    "## DRILL - Descriptive Statistics and Normality"
   ]
  },
  {
   "cell_type": "markdown",
   "metadata": {},
   "source": [
    "*To complete the following drills, you'll need to use your Python skills to create some datasets, then use your new statistical knowledge to summarize them. **Choose 6 distributions** from the list of random distributions available in NumPy, called “Distributions”*"
   ]
  },
  {
   "cell_type": "markdown",
   "metadata": {},
   "source": [
    "1. *Generate a random variable with **100 datapoints** using the code distributionvar = np.random.distributionname([arguments], 100), replacing distributionvar with an appropriate variable name and distributionname with the name of the distribution you’ve chosen, and filling in the empty space in the parentheses with your chosen values for the appropriate parameters. If you feel uncertain about how to do this, go back to the “Other Distributions” assignment for examples of code to use as a starting point.*"
   ]
  },
  {
   "cell_type": "code",
   "execution_count": 2,
   "metadata": {},
   "outputs": [],
   "source": [
    "# this is the 'given' per the task above\n",
    "#     format is    {'method'     : {ID : {kwargs                             }},      } \n",
    "my_distributions = {'binomial'   : {1  : {'n':3,      'p':0.75,    'size':100}},\n",
    "                     'chisquare' : {1  : {'df':4,                  'size':100}},\n",
    "                     'gamma'     : {1  : {'shape':5,  'scale':1.0, 'size':100}},\n",
    "                     'laplace'   : {1  : {'loc':0.0,  'scale':1.0, 'size':100}},\n",
    "                     'lognormal' : {1  : {'mean':0.0, 'sigma':1.0, 'size':100}},\n",
    "                     'weibull'   : {1  : {'a':5,                   'size':100}}           \n",
    "                    }"
   ]
  },
  {
   "cell_type": "code",
   "execution_count": 3,
   "metadata": {},
   "outputs": [
    {
     "name": "stdout",
     "output_type": "stream",
     "text": [
      "dict_keys(['binomial', 'chisquare', 'gamma', 'laplace', 'lognormal', 'weibull'])\n"
     ]
    }
   ],
   "source": [
    "print(my_distributions.keys())"
   ]
  },
  {
   "cell_type": "code",
   "execution_count": 4,
   "metadata": {},
   "outputs": [],
   "source": [
    "# create df from numpy pdf's from dict {'distribution' : {kwargs}\n",
    "\n",
    "def var_pdfs(dict):\n",
    "    df = pd.DataFrame()\n",
    "    for key in dict.keys():\n",
    "        for ky in dict[key].keys():\n",
    "            col = key + '_' + str(ky).rjust(3,'0')             # for multiple pdf's of same type\n",
    "            df[col] = getattr(np.random, key)(**dict[key][ky])    \n",
    "    return df"
   ]
  },
  {
   "cell_type": "code",
   "execution_count": 5,
   "metadata": {},
   "outputs": [
    {
     "data": {
      "text/html": [
       "<div>\n",
       "<style scoped>\n",
       "    .dataframe tbody tr th:only-of-type {\n",
       "        vertical-align: middle;\n",
       "    }\n",
       "\n",
       "    .dataframe tbody tr th {\n",
       "        vertical-align: top;\n",
       "    }\n",
       "\n",
       "    .dataframe thead th {\n",
       "        text-align: right;\n",
       "    }\n",
       "</style>\n",
       "<table border=\"1\" class=\"dataframe\">\n",
       "  <thead>\n",
       "    <tr style=\"text-align: right;\">\n",
       "      <th></th>\n",
       "      <th>binomial_001</th>\n",
       "      <th>chisquare_001</th>\n",
       "      <th>gamma_001</th>\n",
       "      <th>laplace_001</th>\n",
       "      <th>lognormal_001</th>\n",
       "      <th>weibull_001</th>\n",
       "    </tr>\n",
       "  </thead>\n",
       "  <tbody>\n",
       "    <tr>\n",
       "      <th>count</th>\n",
       "      <td>100.000000</td>\n",
       "      <td>100.000000</td>\n",
       "      <td>100.000000</td>\n",
       "      <td>100.000000</td>\n",
       "      <td>100.000000</td>\n",
       "      <td>100.000000</td>\n",
       "    </tr>\n",
       "    <tr>\n",
       "      <th>mean</th>\n",
       "      <td>2.210000</td>\n",
       "      <td>4.014107</td>\n",
       "      <td>5.105267</td>\n",
       "      <td>-0.086880</td>\n",
       "      <td>1.885900</td>\n",
       "      <td>0.860129</td>\n",
       "    </tr>\n",
       "    <tr>\n",
       "      <th>std</th>\n",
       "      <td>0.820138</td>\n",
       "      <td>2.935703</td>\n",
       "      <td>2.276742</td>\n",
       "      <td>1.307540</td>\n",
       "      <td>2.477164</td>\n",
       "      <td>0.225461</td>\n",
       "    </tr>\n",
       "    <tr>\n",
       "      <th>min</th>\n",
       "      <td>0.000000</td>\n",
       "      <td>0.033619</td>\n",
       "      <td>1.232618</td>\n",
       "      <td>-4.136479</td>\n",
       "      <td>0.062086</td>\n",
       "      <td>0.189203</td>\n",
       "    </tr>\n",
       "    <tr>\n",
       "      <th>25%</th>\n",
       "      <td>2.000000</td>\n",
       "      <td>1.853336</td>\n",
       "      <td>3.478354</td>\n",
       "      <td>-0.862807</td>\n",
       "      <td>0.443022</td>\n",
       "      <td>0.683190</td>\n",
       "    </tr>\n",
       "    <tr>\n",
       "      <th>50%</th>\n",
       "      <td>2.000000</td>\n",
       "      <td>3.464664</td>\n",
       "      <td>4.894759</td>\n",
       "      <td>0.049610</td>\n",
       "      <td>1.152658</td>\n",
       "      <td>0.865889</td>\n",
       "    </tr>\n",
       "    <tr>\n",
       "      <th>75%</th>\n",
       "      <td>3.000000</td>\n",
       "      <td>5.445710</td>\n",
       "      <td>6.302614</td>\n",
       "      <td>0.850919</td>\n",
       "      <td>2.210771</td>\n",
       "      <td>1.059179</td>\n",
       "    </tr>\n",
       "    <tr>\n",
       "      <th>max</th>\n",
       "      <td>3.000000</td>\n",
       "      <td>15.744100</td>\n",
       "      <td>11.688571</td>\n",
       "      <td>2.822624</td>\n",
       "      <td>17.292500</td>\n",
       "      <td>1.257761</td>\n",
       "    </tr>\n",
       "  </tbody>\n",
       "</table>\n",
       "</div>"
      ],
      "text/plain": [
       "       binomial_001  chisquare_001   gamma_001  laplace_001  lognormal_001  \\\n",
       "count    100.000000     100.000000  100.000000   100.000000     100.000000   \n",
       "mean       2.210000       4.014107    5.105267    -0.086880       1.885900   \n",
       "std        0.820138       2.935703    2.276742     1.307540       2.477164   \n",
       "min        0.000000       0.033619    1.232618    -4.136479       0.062086   \n",
       "25%        2.000000       1.853336    3.478354    -0.862807       0.443022   \n",
       "50%        2.000000       3.464664    4.894759     0.049610       1.152658   \n",
       "75%        3.000000       5.445710    6.302614     0.850919       2.210771   \n",
       "max        3.000000      15.744100   11.688571     2.822624      17.292500   \n",
       "\n",
       "       weibull_001  \n",
       "count   100.000000  \n",
       "mean      0.860129  \n",
       "std       0.225461  \n",
       "min       0.189203  \n",
       "25%       0.683190  \n",
       "50%       0.865889  \n",
       "75%       1.059179  \n",
       "max       1.257761  "
      ]
     },
     "execution_count": 5,
     "metadata": {},
     "output_type": "execute_result"
    }
   ],
   "source": [
    "my_distr_df = var_pdfs(my_distributions)\n",
    "my_distr_df.describe()"
   ]
  },
  {
   "cell_type": "code",
   "execution_count": 6,
   "metadata": {},
   "outputs": [
    {
     "name": "stdout",
     "output_type": "stream",
     "text": [
      "Index(['binomial_001', 'chisquare_001', 'gamma_001', 'laplace_001',\n",
      "       'lognormal_001', 'weibull_001'],\n",
      "      dtype='object')\n"
     ]
    }
   ],
   "source": [
    "print(my_distr_df.columns)"
   ]
  },
  {
   "cell_type": "code",
   "execution_count": 7,
   "metadata": {},
   "outputs": [],
   "source": [
    "# this function plots a histogram per questions 2. and 3. above\n",
    "# returns figure() of histograms in two column format from each DataFrame column\n",
    "\n",
    "def hists_from_df(df):\n",
    "    col_wdth = 9; row_hght = 6; ncols = 2   # given\n",
    "    nrows = len(df.columns)\n",
    "    nbins = 25\n",
    "    xmin = 3; ymin = 0; xmax = 18; ymax = 25\n",
    "    \n",
    "    fig = plt.figure(1, (col_wdth * ncols, row_hght * nrows))\n",
    "                     \n",
    "    index = 0\n",
    "    for col in df.columns:\n",
    "        index += 1\n",
    "        plt.subplot(nrows, ncols, index)\n",
    "        plt.hist(getattr(df, col), bins=nbins, color='c')       \n",
    "        plt.axvline(df[col].mean(), color='b', linestyle='solid', linewidth=2)                   # vertical line at the mean.    \n",
    "        plt.axvline(df[col].mean() + df[col].std(), color='b', linestyle='dashed', linewidth=2)  # dashed line at +1 std dev\n",
    "        plt.axvline(df[col].mean() - df[col].std(), color='b', linestyle='dashed', linewidth=2)  # dashed line at -1 std dev\n",
    "        plt.title(col + ' distribution')\n",
    "        \n",
    "    return fig\n"
   ]
  },
  {
   "cell_type": "markdown",
   "metadata": {},
   "source": [
    "2. *Graph the variable using a histogram.*\n",
    "3. *Compute the mean and standard deviation and plot them as vertical lines on the histogram. (Hint: the “When Does It Break?” assignment you just completed can help you here.)*\n",
    "\n",
    "**Shown Below**"
   ]
  },
  {
   "cell_type": "code",
   "execution_count": 8,
   "metadata": {},
   "outputs": [
    {
     "data": {
      "image/png": "[encoded data removed]",
      "text/plain": [
       "<Figure size 1296x2592 with 6 Axes>"
      ]
     },
     "metadata": {
      "needs_background": "light"
     },
     "output_type": "display_data"
    }
   ],
   "source": [
    "my_plot = hists_from_df(my_distr_df)"
   ]
  },
  {
   "cell_type": "markdown",
   "metadata": {},
   "source": [
    "4. *Evaluate whether the descriptive statistics provided useful information about the variable. Can you identify any common characteristics of the distributions that could be usefully described using the mean and/or standard deviation, versus the ones that could not?*\n",
    "\n",
    "Whether the mean and standard deviation are useful statistics depends on the distribution shape or how it relates to a Normal distribution. With respect to my six distributions, for the Binomial distribution both mean and standard deviation are not useful. Both statistics will describe the Laplace distribution. For the Log-normal distribution, the mean is useful while the standard deviation is not due to the skewed shape. For the Gamma, Weibull and Chi-square distribution it will depend on the shape parameters with the mean typically being relavent while the standard deviation is not. \n",
    " \n"
   ]
  },
  {
   "cell_type": "markdown",
   "metadata": {},
   "source": [
    "*Additionally:*\n",
    "\n",
    "1. *Generate two normally-distributed variables, one with a mean of 5 and standard deviation of 0.5, and the other with a mean of 10 and standard deviation of 1.0*\n",
    "2. *Add them together to create a third variable.*"
   ]
  },
  {
   "cell_type": "code",
   "execution_count": 9,
   "metadata": {},
   "outputs": [],
   "source": [
    "# this is the 'given' per the task above\n",
    "#       format is    {'method' : {ID : {kwargs                             }},     } \n",
    "more_distributions = {'normal' : {1  : {'loc':5.0,  'scale':0.5, 'size':1000},\n",
    "                                  2  : {'loc':10.0, 'scale':1.0, 'size':1000}}\n",
    "                     }"
   ]
  },
  {
   "cell_type": "code",
   "execution_count": 10,
   "metadata": {},
   "outputs": [],
   "source": [
    "more_distr_df = var_pdfs(more_distributions)\n",
    "more_distr_df['add_1_2'] = more_distr_df[more_distr_df.columns[0]] + more_distr_df[more_distr_df.columns[1]]"
   ]
  },
  {
   "cell_type": "markdown",
   "metadata": {},
   "source": [
    "3. *Graph the third variable using a histogram.*\n",
    "4. *Compute the mean and standard deviation and plot them as vertical lines on the histogram.* \n",
    "\n",
    "**See below**"
   ]
  },
  {
   "cell_type": "code",
   "execution_count": 11,
   "metadata": {},
   "outputs": [
    {
     "data": {
      "image/png": "[encoded data removed]",
      "text/plain": [
       "<Figure size 1296x1296 with 3 Axes>"
      ]
     },
     "metadata": {
      "needs_background": "light"
     },
     "output_type": "display_data"
    }
   ],
   "source": [
    "more_plot = hists_from_df(more_distr_df)"
   ]
  },
  {
   "cell_type": "markdown",
   "metadata": {},
   "source": [
    "5. *Evaluate the descriptive statistics against the data.*\n",
    "\n",
    "The sum of two normal distribution is also normal and the mean will be the sum of the means of the two normal distributions. This is shown below.  I thought the variance of the sum of two normal distributions is likwise the sum of the two variances.  Calculated from the probability density functions directly that would be 1^2 + 0.5^2 = 1.2500.  Using the three samples I get 1.2527 and 1.877.  "
   ]
  },
  {
   "cell_type": "code",
   "execution_count": 12,
   "metadata": {},
   "outputs": [
    {
     "data": {
      "text/html": [
       "<div>\n",
       "<style scoped>\n",
       "    .dataframe tbody tr th:only-of-type {\n",
       "        vertical-align: middle;\n",
       "    }\n",
       "\n",
       "    .dataframe tbody tr th {\n",
       "        vertical-align: top;\n",
       "    }\n",
       "\n",
       "    .dataframe thead th {\n",
       "        text-align: right;\n",
       "    }\n",
       "</style>\n",
       "<table border=\"1\" class=\"dataframe\">\n",
       "  <thead>\n",
       "    <tr style=\"text-align: right;\">\n",
       "      <th></th>\n",
       "      <th>normal_001</th>\n",
       "      <th>normal_002</th>\n",
       "      <th>add_1_2</th>\n",
       "    </tr>\n",
       "  </thead>\n",
       "  <tbody>\n",
       "    <tr>\n",
       "      <th>count</th>\n",
       "      <td>1000.000000</td>\n",
       "      <td>1000.000000</td>\n",
       "      <td>1000.000000</td>\n",
       "    </tr>\n",
       "    <tr>\n",
       "      <th>mean</th>\n",
       "      <td>5.007970</td>\n",
       "      <td>9.972212</td>\n",
       "      <td>14.980182</td>\n",
       "    </tr>\n",
       "    <tr>\n",
       "      <th>std</th>\n",
       "      <td>0.503996</td>\n",
       "      <td>1.036143</td>\n",
       "      <td>1.151928</td>\n",
       "    </tr>\n",
       "    <tr>\n",
       "      <th>min</th>\n",
       "      <td>3.250814</td>\n",
       "      <td>6.220734</td>\n",
       "      <td>11.098679</td>\n",
       "    </tr>\n",
       "    <tr>\n",
       "      <th>25%</th>\n",
       "      <td>4.661563</td>\n",
       "      <td>9.269388</td>\n",
       "      <td>14.226669</td>\n",
       "    </tr>\n",
       "    <tr>\n",
       "      <th>50%</th>\n",
       "      <td>5.015733</td>\n",
       "      <td>9.983167</td>\n",
       "      <td>14.967880</td>\n",
       "    </tr>\n",
       "    <tr>\n",
       "      <th>75%</th>\n",
       "      <td>5.353863</td>\n",
       "      <td>10.674014</td>\n",
       "      <td>15.779313</td>\n",
       "    </tr>\n",
       "    <tr>\n",
       "      <th>max</th>\n",
       "      <td>6.699549</td>\n",
       "      <td>12.587433</td>\n",
       "      <td>18.115805</td>\n",
       "    </tr>\n",
       "  </tbody>\n",
       "</table>\n",
       "</div>"
      ],
      "text/plain": [
       "        normal_001   normal_002      add_1_2\n",
       "count  1000.000000  1000.000000  1000.000000\n",
       "mean      5.007970     9.972212    14.980182\n",
       "std       0.503996     1.036143     1.151928\n",
       "min       3.250814     6.220734    11.098679\n",
       "25%       4.661563     9.269388    14.226669\n",
       "50%       5.015733     9.983167    14.967880\n",
       "75%       5.353863    10.674014    15.779313\n",
       "max       6.699549    12.587433    18.115805"
      ]
     },
     "execution_count": 12,
     "metadata": {},
     "output_type": "execute_result"
    }
   ],
   "source": [
    "more_distr_df.describe()"
   ]
  },
  {
   "cell_type": "code",
   "execution_count": 13,
   "metadata": {},
   "outputs": [
    {
     "name": "stdout",
     "output_type": "stream",
     "text": [
      "14.980181632610954\n",
      "14.980181632610925\n"
     ]
    }
   ],
   "source": [
    "print(more_distr_df['normal_001'].mean() + more_distr_df['normal_002'].mean()) \n",
    "print(more_distr_df['add_1_2'].mean())"
   ]
  },
  {
   "cell_type": "code",
   "execution_count": 14,
   "metadata": {},
   "outputs": [
    {
     "name": "stdout",
     "output_type": "stream",
     "text": [
      "1.3276041015423898\n",
      "1.3269388688098698\n"
     ]
    }
   ],
   "source": [
    "print(more_distr_df['normal_001'].var() + more_distr_df['normal_002'].var()) \n",
    "print(more_distr_df['add_1_2'].var())"
   ]
  },
  {
   "cell_type": "code",
   "execution_count": 15,
   "metadata": {},
   "outputs": [
    {
     "name": "stdout",
     "output_type": "stream",
     "text": [
      "1.5401390119356289\n",
      "1.1519283262468503\n"
     ]
    }
   ],
   "source": [
    "print(more_distr_df['normal_001'].std() + more_distr_df['normal_002'].std()) \n",
    "print(more_distr_df['add_1_2'].std())"
   ]
  }
 ],
 "metadata": {
  "kernelspec": {
   "display_name": "Python 3",
   "language": "python",
   "name": "python3"
  },
  "language_info": {
   "codemirror_mode": {
    "name": "ipython",
    "version": 3
   },
   "file_extension": ".py",
   "mimetype": "text/x-python",
   "name": "python",
   "nbconvert_exporter": "python",
   "pygments_lexer": "ipython3",
   "version": "3.7.0"
  }
 },
 "nbformat": 4,
 "nbformat_minor": 2
}
