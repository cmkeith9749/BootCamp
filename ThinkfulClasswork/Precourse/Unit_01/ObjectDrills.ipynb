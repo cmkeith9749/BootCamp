{
 "cells": [
  {
   "cell_type": "markdown",
   "metadata": {},
   "source": [
    "# Object Drills \n",
    "\n",
    "'Chuck Keith'\n",
    "'02 / 12 /2019'"
   ]
  },
  {
   "cell_type": "markdown",
   "metadata": {},
   "source": [
    "Create a Vector class with x and a y attributes that represent component magnitudes in the x and y directions.\n",
    "\n",
    "Your vectors should handle vector additon with an .add() method that takes a second vector as an argument and returns a new vector equal to the sum of the vector you call .add() on and the vector you pass in.\n",
    "\n",
    "For example:\n",
    "\n",
    ">>> a = Vector(3, 4)\n",
    ">>> a.x\n",
    "3\n",
    ">>> a.y\n",
    "4\n",
    ">>> b = Vector(1, 2)\n",
    ">>> c = a.add(b)\n",
    ">>> c.x\n",
    "4\n",
    ">>> c.y\n",
    "6\n",
    "\n",
    "Adding vectors when you have their components is easy: just add the two x components together and the two y components together to get the x and y components for the vector sum.\n"
   ]
  },
  {
   "cell_type": "markdown",
   "metadata": {},
   "source": [
    "# This took a while\n",
    "\n",
    "'https://www.programiz.com/python-programming/methods/built-in/classmethod'\n",
    "\n",
    "'google seach \"python define class method\"'\n",
    "'I had forgotten the return in the Vector.add()'"
   ]
  },
  {
   "cell_type": "code",
   "execution_count": 36,
   "metadata": {},
   "outputs": [],
   "source": [
    "class Vector(object):\n",
    "\n",
    "    def __init__(self, x, y):\n",
    "        self.x = x\n",
    "        self.y = y\n",
    "        self = (self.x,self.y)\n",
    "\n",
    "        \n",
    "    def __repr__(self):\n",
    "        return \"{} {} vector\".format(self.x, self.y)\n",
    "    \n",
    "    def add(self, other_vector):\n",
    "        return (self.x + other_vector.x, self.y + other_vector.y) \n",
    "       \n"
   ]
  },
  {
   "cell_type": "code",
   "execution_count": 37,
   "metadata": {},
   "outputs": [
    {
     "name": "stdout",
     "output_type": "stream",
     "text": [
      "Vector\n"
     ]
    }
   ],
   "source": [
    "print(Vector.__name__)"
   ]
  },
  {
   "cell_type": "code",
   "execution_count": 35,
   "metadata": {},
   "outputs": [
    {
     "name": "stdout",
     "output_type": "stream",
     "text": [
      "3 4 vector\n",
      "(4, 5)\n"
     ]
    }
   ],
   "source": [
    "print(Vector(3, 4))\n",
    "a = Vector(3, 4)\n",
    "b = Vector(1,1)\n",
    "c = a.add(b)\n",
    "print(c)\n",
    "\n"
   ]
  },
  {
   "cell_type": "code",
   "execution_count": null,
   "metadata": {},
   "outputs": [],
   "source": [
    "'test.describe(\"Basic tests\")\n",
    "test.it(\"Vectors have correct x attributes.\")\n",
    "test.assert_equals(Vector(3, 4).x, 3)\n",
    "test.it(\"Vectors have correct y attributes.\")\n",
    "test.assert_equals(Vector(3, 4).y, 4)\n",
    "test.expect(hasattr(Vector(3, 4), \"add\"), \"Vectors should have an .add() method.\")\n",
    "test.expect(isinstance(Vector(3, 4).add(Vector(1, 2)), Vector), \".add should return a vector.\")\n",
    "test.it(\"Vectors add x components correctly.\")\n",
    "test.assert_equals(Vector(3, 4).add(Vector(1, 2)).x, 4)\n",
    "test.it(\"Vectors add y components correctly.\")\n",
    "test.assert_equals(Vector(3, 4).add(Vector(1, 2)).y, 6)'"
   ]
  },
  {
   "cell_type": "markdown",
   "metadata": {},
   "source": [
    "# Quarks\n",
    "'Background\n",
    "\n",
    "You're modelling the interaction between a large number of quarks and have decided to create a Quark class so you can generate your own quark objects.\n",
    "\n",
    "Quarks are fundamental particles and the only fundamental particle to experience all four fundamental forces.\n",
    "Your task\n",
    "\n",
    "Your Quark class should allow you to create quarks of any valid color (\"red\", \"blue\", and \"green\") and any valid flavor ('up', 'down', 'strange', 'charm', 'top', and 'bottom').\n",
    "\n",
    "Every quark has the same baryon_number (BaryonNumber in C#): 1/3.\n",
    "\n",
    "Every quark should have an .interact() (.Interact() in C#) method that allows any quark to interact with another quark via the strong force. When two quarks interact they exchange colors.\n",
    "Example\n",
    "\n",
    ">>> q1 = Quark(\"red\", \"up\")\n",
    ">>> q1.color\n",
    "\"red\"\n",
    ">>> q1.flavor\n",
    "\"up\"\n",
    ">>> q2 = Quark(\"blue\", \"strange\")\n",
    ">>> q2.color\n",
    "\"blue\"\n",
    ">>> q2.baryon_number\n",
    "0.3333333333333333\n",
    ">>> q1.interact(q2)\n",
    ">>> q1.color\n",
    "\"blue\"\n",
    ">>> q2.color\n",
    "\"red\"\n",
    "'"
   ]
  },
  {
   "cell_type": "code",
   "execution_count": 39,
   "metadata": {},
   "outputs": [],
   "source": [
    "class Quark(object):\n",
    "\n",
    "    def __init__(self, color, flavor):\n",
    "        self.color = color\n",
    "        self.flavor = flavor\n",
    "\n",
    "    baryon_number = 1 / 3\n",
    "\n",
    "    def interact(self, other_quark):\n",
    "        self.color, other_quark.color = other_quark.color, self.color\n",
    "\n",
    "    def __repr__(self):\n",
    "        return \"{} {} quark\".format(self.color, self.flavor)"
   ]
  },
  {
   "cell_type": "code",
   "execution_count": 42,
   "metadata": {},
   "outputs": [
    {
     "name": "stdout",
     "output_type": "stream",
     "text": [
      "red\n",
      "strange\n",
      "0.3333333333333333\n",
      "blue\n",
      "red\n"
     ]
    }
   ],
   "source": [
    "q1 = Quark(\"red\", \"up\")\n",
    "q2 = Quark(\"blue\", \"strange\")\n",
    "\n",
    "#test.describe(\"Object initialization\")\n",
    "print(q1.color)#, \"red\")\n",
    "print(q2.flavor)#, \"strange\"))\n",
    "\n",
    "#test.describe(\"Class attributes\")\n",
    "print(q2.baryon_number)#, 1.0 / 3)\n",
    "\n",
    "#test.describe(\"Quarks trade colors when interacting\")\n",
    "q1.interact(q2)\n",
    "print(q1.color)\n",
    "print(q2.color)"
   ]
  },
  {
   "cell_type": "code",
   "execution_count": null,
   "metadata": {},
   "outputs": [],
   "source": []
  }
 ],
 "metadata": {
  "kernelspec": {
   "display_name": "Python 3",
   "language": "python",
   "name": "python3"
  },
  "language_info": {
   "codemirror_mode": {
    "name": "ipython",
    "version": 3
   },
   "file_extension": ".py",
   "mimetype": "text/x-python",
   "name": "python",
   "nbconvert_exporter": "python",
   "pygments_lexer": "ipython3",
   "version": "3.7.0"
  }
 },
 "nbformat": 4,
 "nbformat_minor": 2
}
