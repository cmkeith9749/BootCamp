{
 "cells": [
  {
   "cell_type": "markdown",
   "metadata": {},
   "source": [
    "# Thinkful - Logic Drills: Traffic light\n",
    "\n",
    "'You're writing code to control your town's traffic lights. You need a function to handle each change from green, to yellow, to red, and then to green again.\n",
    "\n",
    "Complete the function that takes a string as an argument representing the current state of the light and returns a string representing the state the light should change to.\n",
    "\n",
    "For example, update_light('green') should return 'yellow'.\n",
    "'"
   ]
  },
  {
   "cell_type": "code",
   "execution_count": 1,
   "metadata": {},
   "outputs": [],
   "source": [
    "def update_light(current):\n",
    "    if   current == 'green':  return 'yellow'\n",
    "    elif current == 'yellow': return 'red'\n",
    "    else:                     return 'green' \n",
    "    "
   ]
  },
  {
   "cell_type": "code",
   "execution_count": 3,
   "metadata": {},
   "outputs": [
    {
     "name": "stdout",
     "output_type": "stream",
     "text": [
      "yellow\n",
      "red\n",
      "green\n"
     ]
    }
   ],
   "source": [
    "print(update_light('green')) #), 'yellow')\n",
    "print(update_light('yellow')) #, 'red')\n",
    "print(update_light('red')) #, 'green')"
   ]
  },
  {
   "cell_type": "markdown",
   "metadata": {},
   "source": [
    "# Thinkful - Logic Drills: Umbrella decider\n",
    "'Write a function take_umbrella() that takes two arguments: a string representing the current weather and a float representing the chance of rain today.\n",
    "\n",
    "Your function should return True or False based on the following criteria.\n",
    "\n",
    "    You should take an umbrella if it's currently raining or if it's cloudy and the chance of rain is over 0.20.\n",
    "    You shouldn't take an umbrella if it's sunny unless it's more likely to rain than not.\n",
    "\n",
    "The options for the current weather are sunny, cloudy, and rainy.\n",
    "\n",
    "For example, take_umbrella('sunny', 0.40) should return False.\n",
    "\n",
    "As an additional challenge, consider solving this kata using only logical operaters and not using any if statements.\n",
    "'"
   ]
  },
  {
   "cell_type": "code",
   "execution_count": 14,
   "metadata": {},
   "outputs": [],
   "source": [
    "def take_umbrella(weather, rain_chance):\n",
    "    return weather == 'rainy' or rain_chance > .50  or (weather == 'cloudy' and rain_chance > .20)"
   ]
  },
  {
   "cell_type": "code",
   "execution_count": 16,
   "metadata": {},
   "outputs": [
    {
     "name": "stdout",
     "output_type": "stream",
     "text": [
      "False\n",
      "True\n",
      "True\n"
     ]
    }
   ],
   "source": [
    "print(take_umbrella('sunny', 0.40))#, False)\n",
    "print(take_umbrella('rainy', 0.0))#, True)\n",
    "print(take_umbrella('cloudy', 0.20))#, False)"
   ]
  },
  {
   "cell_type": "code",
   "execution_count": 6,
   "metadata": {},
   "outputs": [],
   "source": [
    "def take_umbrella(weather, rain_chance):\n",
    "    if weather == 'rainy':  return True\n",
    "    elif rain_chance > .50:   return True\n",
    "    elif rain_chance > .20 and weather == 'cloudy': return True\n",
    "    else: return False\n",
    "        "
   ]
  },
  {
   "cell_type": "markdown",
   "metadata": {},
   "source": [
    "# Thinkful - Logic Drills: Graceful addition\n",
    "'You like the way the Python + operator easily handles adding different numeric types, but you need a tool to do that kind of addition without killing your program with a TypeError exception whenever you accidentally try adding incompatible types like strings and lists to numbers.\n",
    "\n",
    "You decide to write a function my_add() that takes two arguments. If the arguments can be added together it returns the sum. If adding the arguments together would raise an error the function should return None instead.\n",
    "\n",
    "For example, my_add(1, 3.414) would return 4.414, but my_add(42, \" is the answer.\") would return None.\n",
    "\n",
    "Hint: using a try / except statement may simplify this kata.\n",
    "'"
   ]
  },
  {
   "cell_type": "code",
   "execution_count": 17,
   "metadata": {},
   "outputs": [],
   "source": [
    "def my_add(a, b):\n",
    "    try:\n",
    "        return a + b\n",
    "    except TypeError:\n",
    "        return None"
   ]
  },
  {
   "cell_type": "code",
   "execution_count": 18,
   "metadata": {},
   "outputs": [
    {
     "name": "stdout",
     "output_type": "stream",
     "text": [
      "4.414\n",
      "None\n",
      "None\n"
     ]
    }
   ],
   "source": [
    "print(my_add(1, 3.414))#, 4.414)\n",
    "print(my_add(42, \" is the answer.\"))#, None)\n",
    "print(my_add(10, \"2\"))#, None)"
   ]
  },
  {
   "cell_type": "markdown",
   "metadata": {},
   "source": [
    "# Thinkful - Logic Drills: Red and bumpy\n",
    "'You're playing a game with a friend involving a bag of marbles. In the bag are ten marbles:\n",
    "\n",
    "    1 smooth red marble\n",
    "    4 bumpy red marbles\n",
    "    2 bumpy yellow marbles\n",
    "    1 smooth yellow marble\n",
    "    1 bumpy green marble\n",
    "    1 smooth green marble\n",
    "\n",
    "You can see that the probability of picking a smooth red marble from the bag is 1 / 10 or 0.10 and the probability of picking a bumpy yellow marble is 2 / 10 or 0.20.\n",
    "\n",
    "The game works like this: your friend puts her hand in the bag, chooses a marble (without looking at it) and tells you whether it's bumpy or smooth. Then you have to guess which color it is before she pulls it out and reveals whether you're correct or not.\n",
    "\n",
    "You know that the information about whether the marble is bumpy or smooth changes the probability of what color it is, and you want some help with your guesses.\n",
    "\n",
    "Write a function color_probability() that takes two arguments: a color ('red', 'yellow', or 'green') and a texture ('bumpy' or 'smooth') and returns the probability as a decimal fraction accurate to two places.\n",
    "\n",
    "The probability should be a string and should discard any digits after the 100ths place. For example, 2 / 3 or 0.6666666666666666 would become the string '0.66'. Note this is different from rounding.\n",
    "\n",
    "As a complete example, color_probability('red', 'bumpy') should return the string '0.57'.\n",
    "'"
   ]
  },
  {
   "cell_type": "code",
   "execution_count": 30,
   "metadata": {},
   "outputs": [],
   "source": [
    "def color_probability(color, texture):\n",
    "    if texture == 'smooth': return str(1 / 3)[:4]\n",
    "    else:\n",
    "        if color == 'red':      return str(4 / 7)[:4]\n",
    "        elif color == 'yellow': return str(2 / 7)[:4]\n",
    "        else:                   return str(1 / 7)[:4]\n",
    "         "
   ]
  },
  {
   "cell_type": "code",
   "execution_count": 32,
   "metadata": {},
   "outputs": [
    {
     "name": "stdout",
     "output_type": "stream",
     "text": [
      "0.33\n",
      "0.33\n",
      "0.57\n",
      "0.28\n",
      "0.14\n"
     ]
    }
   ],
   "source": [
    "print(color_probability('red', 'smooth'))\n",
    "print(color_probability('green', 'smooth'))\n",
    "print(color_probability('red', 'bumpy'))\n",
    "print(color_probability('yellow', 'bumpy'))\n",
    "print(color_probability('green', 'bumpy'))"
   ]
  },
  {
   "cell_type": "markdown",
   "metadata": {},
   "source": [
    "# Thinkful - Logic Drills: Hacking p-hackers\n",
    "'As a member of the editorial board of the prestigous scientific Journal Proceedings of the National Academy of Sciences, you've decided to go back and review how well old articles you've published stand up to modern publication best practices. Specifically, you'd like to re-evaluate old findings in light of recent literature about \"researcher degrees of freedom\".\n",
    "\n",
    "You want to categorize all the old articles into three groups: \"Fine\", \"Needs review\" and \"Pants on fire\".\n",
    "\n",
    "In order to categorize them you've enlisted an army of unpaid grad students to review and give you two data points from each study: (1) the p-value behind the paper's primary conclusions, and (2) the number of recommended author requirements to limit researcher degrees of freedom the authors satisfied:\n",
    "\n",
    "* Authors must decide the rule for terminating data collection before data collection begins and report this rule in the article.\n",
    "* Authors must collect at least 20 observations per cell or else provide a compelling cost-of-data-collection justification. \n",
    "* Authors must list all variables collected in a study.\n",
    "* Authors must report all experimental conditions, including failed manipulations.\n",
    "* If observations are eliminated, authors must also report what the statistical results are if those observations are included.\n",
    "* If an analysis includes a covariate, authors must report the statistical results of the analysis without the covariate.\n",
    "\n",
    "Your army of tenure-hungry grad students will give you the p-value as a float between 1.0 and 0.0 exclusive, and the number of author requirements satisfied as an integer from 0 through 6 inclusive.\n",
    "\n",
    "You've decided to write a function, categorize_study() to automatically categorize each study based on these two inputs using the completely scientifically legitimate \"bs-factor\". The bs-factor for a particular paper is calculated as follows:\n",
    "\n",
    "    bs-factor when the authors satisfy all six requirements is 1\n",
    "    bs-factor when the authors satisfy only five requirements is 2\n",
    "    bs-factor when the authors satisfy only four requirements is 4\n",
    "    bs-factor when the authors satisfy only three requirements is 8...\n",
    "\n",
    "Your function should multiply the p-value by the bs-factor and use that product to return one of the following strings:\n",
    "\n",
    "    product is less than 0.05: \"Fine\"\n",
    "    product is 0.05 to 0.15: \"Needs review\"\n",
    "    product is 0.15 or higher: \"Pants on fire\"\n",
    "\n",
    "You've also decided that all studies meeting none of the author requirements that would have been categorized as \"Fine\" should instead be categorized as \"Needs review\".\n",
    "\n",
    "For example:\n",
    "\n",
    "categorize_study(0.01, 3) should return \"Needs review\" because the p-value times the bs-factor is 0.08.\n",
    "\n",
    "categorize_study(0.04, 6) should return \"Fine\" because the p-value times the bs-factor is only 0.04.\n",
    "\n",
    "categorize_study(0.0001, 0) should return \"Needs review\" even though the p-value times the bs-factor is only 0.0064.\n",
    "\n",
    "categorize_study(0.012, 0) should return \"Pants on fire\" because the p-value times the bs-factor is 0.768.\n",
    "'"
   ]
  },
  {
   "cell_type": "code",
   "execution_count": 64,
   "metadata": {},
   "outputs": [],
   "source": [
    "def categorize_study(p_value, requirements):  \n",
    "    switchReq = {}                   #Make a \"switch statement\" dictionary to calculate BS Factor\n",
    "    for i in range(7):\n",
    "         switchReq[i] = 2 ** (6 - i)\n",
    "    print(p_value * switchReq[requirements])\n",
    "    if p_value * switchReq[requirements] >= .15:                      return \"Pants on fire\"\n",
    "    if p_value * switchReq[requirements] >= .05 or requirements == 0: return \"Needs review\"\n",
    "    else:                                                             return  \"Fine\"\n",
    "\n",
    "    \n",
    "    "
   ]
  },
  {
   "cell_type": "code",
   "execution_count": 65,
   "metadata": {},
   "outputs": [
    {
     "name": "stdout",
     "output_type": "stream",
     "text": [
      "0.01\n",
      "Fine\n"
     ]
    }
   ],
   "source": [
    "print(categorize_study(.01, 6))\n"
   ]
  },
  {
   "cell_type": "code",
   "execution_count": 66,
   "metadata": {},
   "outputs": [
    {
     "name": "stdout",
     "output_type": "stream",
     "text": [
      "0.08\n",
      "Needs review\n",
      "0.04\n",
      "Fine\n",
      "0.0064\n",
      "Needs review\n",
      "0.768\n",
      "Pants on fire\n"
     ]
    }
   ],
   "source": [
    "print(categorize_study(0.01, 3))#, \"Needs review\"))#\n",
    "print(categorize_study(0.04, 6))#, \"Fine\"))#\n",
    "print(categorize_study(0.0001, 0))#, \"Needs review\"))#\n",
    "print(categorize_study(0.012, 0))#, \"Pants on fire\"))#"
   ]
  },
  {
   "cell_type": "code",
   "execution_count": 48,
   "metadata": {},
   "outputs": [
    {
     "ename": "NameError",
     "evalue": "name 'switchReq' is not defined",
     "output_type": "error",
     "traceback": [
      "\u001b[1;31m---------------------------------------------------------------------------\u001b[0m",
      "\u001b[1;31mNameError\u001b[0m                                 Traceback (most recent call last)",
      "\u001b[1;32m<ipython-input-48-b5e3e874539e>\u001b[0m in \u001b[0;36m<module>\u001b[1;34m()\u001b[0m\n\u001b[1;32m----> 1\u001b[1;33m \u001b[0mprint\u001b[0m\u001b[1;33m(\u001b[0m\u001b[0mswitchReq\u001b[0m\u001b[1;33m[\u001b[0m\u001b[1;36m0\u001b[0m\u001b[1;33m]\u001b[0m\u001b[1;33m)\u001b[0m\u001b[1;33m\u001b[0m\u001b[0m\n\u001b[0m",
      "\u001b[1;31mNameError\u001b[0m: name 'switchReq' is not defined"
     ]
    }
   ],
   "source": [
    "print(switchReq[0])\n"
   ]
  },
  {
   "cell_type": "code",
   "execution_count": null,
   "metadata": {},
   "outputs": [],
   "source": []
  }
 ],
 "metadata": {
  "kernelspec": {
   "display_name": "Python 3",
   "language": "python",
   "name": "python3"
  },
  "language_info": {
   "codemirror_mode": {
    "name": "ipython",
    "version": 3
   },
   "file_extension": ".py",
   "mimetype": "text/x-python",
   "name": "python",
   "nbconvert_exporter": "python",
   "pygments_lexer": "ipython3",
   "version": "3.7.0"
  }
 },
 "nbformat": 4,
 "nbformat_minor": 2
}
