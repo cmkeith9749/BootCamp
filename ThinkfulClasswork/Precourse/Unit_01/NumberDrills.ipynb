{
 "cells": [
  {
   "cell_type": "code",
   "execution_count": 1,
   "metadata": {},
   "outputs": [],
   "source": [
    "#    Rømer temperature\n",
    "def celsius_to_romer(temp):\n",
    "    return temp * 21 / 40 + 7.5\n"
   ]
  },
  {
   "cell_type": "code",
   "execution_count": 2,
   "metadata": {},
   "outputs": [
    {
     "name": "stdout",
     "output_type": "stream",
     "text": [
      "18.525\n",
      "7.5\n",
      "-3.0\n",
      "60.0\n"
     ]
    }
   ],
   "source": [
    "A = [21, 0, -20, 100]\n",
    "for a in A:\n",
    "    print(celsius_to_romer(a))"
   ]
  },
  {
   "cell_type": "code",
   "execution_count": 3,
   "metadata": {},
   "outputs": [],
   "source": [
    "# Pixelart planning\n",
    "def is_divisible(wall_length, pixel_size):\n",
    "    return not(wall_length % pixel_size)\n"
   ]
  },
  {
   "cell_type": "code",
   "execution_count": 7,
   "metadata": {},
   "outputs": [
    {
     "name": "stdout",
     "output_type": "stream",
     "text": [
      "False\n"
     ]
    }
   ],
   "source": [
    "print(is_divisible(4066, 27))"
   ]
  },
  {
   "cell_type": "markdown",
   "metadata": {},
   "source": [
    "# 'Number Drills: Blue and red marbles'\n",
    "'''You've decided to write a function, guess_blue() to help automatically calculate whether you should guess \"blue\" or \"red\". The function should take four arguments:\n",
    "\n",
    "    the number of blue marbles you put in the bag to start\n",
    "    the number of red marbles you put in the bag to start\n",
    "    the number of blue marbles pulled out so far, and\n",
    "    the number of red marbles pulled out so far.\n",
    "\n",
    "guess_blue() should return the probability of drawing a blue marble, expressed as a float. For example, guess_blue(5, 5, 2, 3) should return 0.6.'''    "
   ]
  },
  {
   "cell_type": "code",
   "execution_count": 8,
   "metadata": {},
   "outputs": [],
   "source": [
    "def guess_blue(blue_start, red_start, blue_pulled, red_pulled):\n",
    "    return (blue_start - blue_pulled) /( blue_start + red_start - blue_pulled - red_pulled)\n"
   ]
  },
  {
   "cell_type": "code",
   "execution_count": 9,
   "metadata": {},
   "outputs": [
    {
     "name": "stdout",
     "output_type": "stream",
     "text": [
      "0.6\n"
     ]
    }
   ],
   "source": [
    "print(guess_blue(5, 5, 2, 3))"
   ]
  },
  {
   "cell_type": "code",
   "execution_count": 10,
   "metadata": {},
   "outputs": [
    {
     "name": "stdout",
     "output_type": "stream",
     "text": [
      "0.4\n"
     ]
    }
   ],
   "source": [
    "print(guess_blue(12, 18, 4, 6))"
   ]
  },
  {
   "cell_type": "markdown",
   "metadata": {},
   "source": [
    "# Thinkful - Number Drills: Congo warehouses\n",
    "'Your company, Congo Pizza, is the second-largest online frozen pizza retailer. You own a number of international warehouses that you use to store your frozen pizzas, and you need to figure out how many crates of pizzas you can store at each location.\n",
    "\n",
    "Congo recently standardized its storage containers: all pizzas fit inside a cubic crate, 16-inchs on a side. The crates are super tough so you can stack them as high as you want.\n",
    "\n",
    "Write a function box_capacity() that figures out how many crates you can store in a given warehouse. The function should take three arguments: the length, width, and height of your warehouse (in feet) and should return an integer representing the number of boxes you can store in that space.\n",
    "\n",
    "For example: a warehouse 32 feet long, 64 feet wide, and 16 feet high can hold 13,824 boxes because you can fit 24 boxes across, 48 boxes deep, and 12 boxes high, so box_capacity(32, 64, 16) should return 13824.\n",
    "'"
   ]
  },
  {
   "cell_type": "code",
   "execution_count": 11,
   "metadata": {},
   "outputs": [],
   "source": [
    "def box_capacity(length, width, height):\n",
    "    return (length * 12 // 16 ) * (width * 12 // 16) * (height * 12 // 16)"
   ]
  },
  {
   "cell_type": "code",
   "execution_count": 13,
   "metadata": {},
   "outputs": [
    {
     "name": "stdout",
     "output_type": "stream",
     "text": [
      "13824\n",
      "3375\n",
      "27000\n"
     ]
    }
   ],
   "source": [
    "print(box_capacity(32, 64, 16)) # 13824\n",
    "print(box_capacity(20, 20, 20) ) #3375\n",
    "print(box_capacity(80, 40, 20)) #, 27000"
   ]
  },
  {
   "cell_type": "markdown",
   "metadata": {},
   "source": [
    "# Thinkful - Number Drills: Quadratic formula\n",
    "'Remember all those quadratic equations you had to solve by hand in highschool? Well, no more! You're going to solve all the quadratic equations you might ever[1] have to wrangle with in the future once and for all by coding up the quadratic formula to handle them automatically.\n",
    "\n",
    "Write a function quadratic_formula() that takes three arguments, a, b, and c that represent the coefficients in a formula of the form ax^2 + bx + c = 0. Your function shoud return a list with two elements where each element is one of the two roots. If the formula produces a double root the result should be a list where both elements are that value.\n",
    "\n",
    "For example, quadratic_formula(2, 16, 1) should return the list [-0.06299606299409444, -7.937003937005906]. The order of the roots is not important.\n",
    "\n",
    "[1] Well, not ever ever. You don't need to worry about getting quadratic equations with complex roots where you need the square root of a negative number. All the test cases will be for equations with real roots.\n",
    "'\n",
    "''"
   ]
  },
  {
   "cell_type": "code",
   "execution_count": 18,
   "metadata": {},
   "outputs": [],
   "source": [
    "def quadratic_formula(a, b, c):\n",
    "    \n",
    "    root1 = (-b - (b**2 - 4 * a * c) ** .5 )/ (2 * a)\n",
    "    \n",
    "    root2 = (-b + (b**2 - 4 * a * c) ** .5) / (2 * a)\n",
    "    \n",
    "    return [root1, root2]"
   ]
  },
  {
   "cell_type": "code",
   "execution_count": 19,
   "metadata": {},
   "outputs": [
    {
     "name": "stdout",
     "output_type": "stream",
     "text": [
      "[-7.937003937005906, -0.06299606299409444]\n",
      "[-5.103028450199876, -0.14697154980012384]\n",
      "[-13.462860791048776, -0.037139208951224134]\n"
     ]
    }
   ],
   "source": [
    "print(quadratic_formula(2, 16, 1))#, [-7.937003937005906, -0.06299606299409444])\n",
    "print(quadratic_formula(4, 21, 3))#, [-5.103028450199876, -0.14697154980012384])\n",
    "print(quadratic_formula(6, 81, 3))#, [-13.462860791048776, -0.037139208951224134])"
   ]
  },
  {
   "cell_type": "code",
   "execution_count": null,
   "metadata": {},
   "outputs": [],
   "source": []
  }
 ],
 "metadata": {
  "kernelspec": {
   "display_name": "Python 3",
   "language": "python",
   "name": "python3"
  },
  "language_info": {
   "codemirror_mode": {
    "name": "ipython",
    "version": 3
   },
   "file_extension": ".py",
   "mimetype": "text/x-python",
   "name": "python",
   "nbconvert_exporter": "python",
   "pygments_lexer": "ipython3",
   "version": "3.7.0"
  }
 },
 "nbformat": 4,
 "nbformat_minor": 2
}
