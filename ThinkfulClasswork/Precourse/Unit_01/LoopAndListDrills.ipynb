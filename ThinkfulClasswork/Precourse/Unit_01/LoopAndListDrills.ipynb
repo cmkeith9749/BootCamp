{
 "cells": [
  {
   "cell_type": "markdown",
   "metadata": {},
   "source": [
    "# Thinkful - List Drills: Longest word\n",
    "'Complete the function that takes one argument, a list of words, and returns the length of the longest word in the list.\n",
    "\n",
    "For example:\n",
    "\n",
    "['simple', 'is', 'better', 'than', 'complex'] ==> 7\n",
    "\n",
    "Do not modify the input list.\n",
    "'"
   ]
  },
  {
   "cell_type": "code",
   "execution_count": null,
   "metadata": {},
   "outputs": [],
   "source": [
    "def longest(words):\n",
    "    # Your code here"
   ]
  },
  {
   "cell_type": "code",
   "execution_count": 1,
   "metadata": {},
   "outputs": [],
   "source": [
    "def calculate_grade(scores):\n",
    "    total = 0\n",
    "    for score in scores:\n",
    "        total += score\n",
    "    avg = total / len(scores)\n",
    "    \n",
    "    if avg >= 90: return 'A'\n",
    "    if avg >= 80: return 'B'\n",
    "    if avg >= 70: return 'C' \n",
    "    if avg >= 60: return 'D'\n",
    "    else:         return 'F'"
   ]
  },
  {
   "cell_type": "code",
   "execution_count": 2,
   "metadata": {},
   "outputs": [
    {
     "name": "stdout",
     "output_type": "stream",
     "text": [
      "A\n",
      "C\n",
      "F\n"
     ]
    }
   ],
   "source": [
    "print(calculate_grade([92, 94, 99]))#, \"A\"))#\n",
    "print(calculate_grade([50, 60, 70, 80, 90]))#, \"C\"))#\n",
    "print(calculate_grade([50, 55]))#, \"F\"))#"
   ]
  },
  {
   "cell_type": "markdown",
   "metadata": {},
   "source": [
    "# Thinkful - List and Loop Drills: Lists of lists\n",
    "'You have a two-dimensional list in the following format:\n",
    "\n",
    "data = [[2, 5], [3, 4], [8, 7]]\n",
    "\n",
    "Each sub-list contains two items, and each item in the sub-lists is an integer.\n",
    "\n",
    "Write a function process_data() that processes each sub-list like so:\n",
    "\n",
    "    [2, 5] --> 2 - 5 --> -3\n",
    "    [3, 4] --> 3 - 4 --> -1\n",
    "    [8, 7] --> 8 - 7 --> 1\n",
    "\n",
    "and then returns the product of all the processed sub-lists: -3 * -1 * 1 --> 3.\n",
    "\n",
    "For input, you can trust that neither the main list nor the sublists will be empty.\n",
    "'"
   ]
  },
  {
   "cell_type": "code",
   "execution_count": 3,
   "metadata": {},
   "outputs": [],
   "source": [
    "def process_data(data):\n",
    "    A = []\n",
    "    for dat in data:\n",
    "        A.append(dat[0] - dat[1])\n",
    "    product = 1\n",
    "    for a in A:\n",
    "        product *= a\n",
    "    return product    \n",
    "        \n",
    "        "
   ]
  },
  {
   "cell_type": "code",
   "execution_count": 4,
   "metadata": {},
   "outputs": [
    {
     "name": "stdout",
     "output_type": "stream",
     "text": [
      "3\n",
      "28\n"
     ]
    }
   ],
   "source": [
    "print(process_data([[2, 5], [3, 4], [8, 7]]))#, 3))#\n",
    "print(process_data([[2, 9], [2, 4], [7, 5]]))#, 28))#"
   ]
  },
  {
   "cell_type": "markdown",
   "metadata": {},
   "source": [
    "# Thinkful - List and Loop Drills: Inverse Slicer\n",
    "'You're familiar with list slicing in Python and know, for example, that:\n",
    "\n",
    ">>> ages = [12, 14, 63, 72, 55, 24]\n",
    ">>> ages[2:4]\n",
    "[63, 72]\n",
    ">>> ages[2:]\n",
    "[63, 72, 55, 24]\n",
    ">>> ages[:3]\n",
    "[12, 14, 63]\n",
    "\n",
    "write a function inverse_slice() that takes three arguments: a list items, an integer a and an integer b. The function should return a new list with the slice specified by items[a:b] excluded. For example:\n",
    "\n",
    ">>>inverse_slice([12, 14, 63, 72, 55, 24], 2, 4)\n",
    "[12, 14, 55, 24]\n",
    "\n",
    "The input will always be a valid list, a and b will always be different integers equal to or greater than zero, but they may be zero or be larger than the length of the list.\n",
    "'"
   ]
  },
  {
   "cell_type": "code",
   "execution_count": 5,
   "metadata": {},
   "outputs": [],
   "source": [
    "def inverse_slice(items, a, b):\n",
    "    A = items[:a]\n",
    "    B = items[b:]\n",
    "    for b in B:\n",
    "        A.append(b)\n",
    "    return A\n",
    "    "
   ]
  },
  {
   "cell_type": "code",
   "execution_count": 10,
   "metadata": {},
   "outputs": [
    {
     "name": "stdout",
     "output_type": "stream",
     "text": [
      "[12, 14, 55, 24]\n",
      "[12, 14, 63, 72, 55, 24]\n",
      "[72, 55, 24]\n",
      "['Intuition', 'is', 'a', 'poor', 'guide']\n"
     ]
    }
   ],
   "source": [
    "print(inverse_slice([12, 14, 63, 72, 55, 24], 2, 4))#, [12, 14, 55, 24]))#\n",
    "print(inverse_slice([12, 14, 63, 72, 55, 24],9, 11))#, [12, 14, 55, 24]))#\n",
    "print(inverse_slice([12, 14, 63, 72, 55, 24], 0, 3))#, [72, 55, 24]))#\n",
    "print(inverse_slice(['Intuition', 'is', 'a', 'poor', 'guide', 'when', 'facing', 'probabilistic', 'evidence'], 5, 13))#, ['Intuition', 'is', 'a', 'poor', 'guide']))#"
   ]
  },
  {
   "cell_type": "code",
   "execution_count": null,
   "metadata": {},
   "outputs": [],
   "source": []
  }
 ],
 "metadata": {
  "kernelspec": {
   "display_name": "Python 3",
   "language": "python",
   "name": "python3"
  },
  "language_info": {
   "codemirror_mode": {
    "name": "ipython",
    "version": 3
   },
   "file_extension": ".py",
   "mimetype": "text/x-python",
   "name": "python",
   "nbconvert_exporter": "python",
   "pygments_lexer": "ipython3",
   "version": "3.7.0"
  }
 },
 "nbformat": 4,
 "nbformat_minor": 2
}
