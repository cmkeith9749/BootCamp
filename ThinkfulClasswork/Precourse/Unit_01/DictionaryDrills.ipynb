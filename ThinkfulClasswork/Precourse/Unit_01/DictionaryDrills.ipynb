{
 "cells": [
  {
   "cell_type": "markdown",
   "metadata": {},
   "source": [
    "# Dictionary drills\n",
    "'You're running an online business and a big part of your day is fulfilling orders. As your volume picks up that's been taking more of your time, and unfortunately lately you've been running into situations where you take an order but can't fulfill it.\n",
    "\n",
    "You've decided to write a function fillable() that takes three arguments: a dictionary stock representing all the merchandise you have in stock, a string merch representing the thing your customer wants to buy, and an integer n representing the number of units of merch they would like to buy. Your function should return True if you have the merchandise in stock to complete the sale, otherwise it should return False.\n",
    "\n",
    "Valid data will always be passed in and n will always be >= 1.\n",
    "'"
   ]
  },
  {
   "cell_type": "code",
   "execution_count": 1,
   "metadata": {},
   "outputs": [],
   "source": [
    "stock = {\n",
    "    'football': 4,\n",
    "    'boardgame': 10,\n",
    "    'leggos': 1,\n",
    "    'doll': 5,\n",
    "        }\n"
   ]
  },
  {
   "cell_type": "code",
   "execution_count": 4,
   "metadata": {},
   "outputs": [],
   "source": [
    "def fillable(stock, merch, n):\n",
    "    try:\n",
    "        return stock[merch] - n >= 0\n",
    "    except KeyError: \n",
    "        return False"
   ]
  },
  {
   "cell_type": "code",
   "execution_count": 5,
   "metadata": {},
   "outputs": [
    {
     "name": "stdout",
     "output_type": "stream",
     "text": [
      "True\n",
      "False\n",
      "False\n"
     ]
    }
   ],
   "source": [
    "print(fillable(stock, 'football', 3))#, True)\n",
    "print(fillable(stock, 'leggos', 2))#, False)\n",
    "print(fillable(stock, 'action figure', 1))#, False)"
   ]
  },
  {
   "cell_type": "markdown",
   "metadata": {},
   "source": [
    "# Thinkful - Dictionary Drills: User contacts\n",
    "'You're putting together contact information for all the users of your website to ship them a small gift. You queried your database and got back a list of users, where each user is another list with up to two items: a string representing the user's name and their shipping zip code. Example data might look like:\n",
    "\n",
    "[[\"Grae Drake\", 98110], [\"Bethany Kok\"], [\"Alex Nussbacher\", 94101], [\"Darrell Silver\", 11201]]\n",
    "\n",
    "Notice that one of the users above has a name but doesn't have a zip code.\n",
    "\n",
    "Write a function user_contacts() that takes a two-dimensional list like the one above and returns a dictionary with an item for each user where the key is the user's name and the value is the user's zip code. If your data doesn't include a zip code then the value should be None.\n",
    "\n",
    "For example, using the input above, user_contacts() would return this dictionary:\n",
    "\n",
    "{\n",
    "    \"Grae Drake\": 98110,\n",
    "    \"Bethany Kok\": None,\n",
    "    \"Alex Nussbacher\": 94101,\n",
    "    \"Darrell Silver\": 11201,    \n",
    "}\n",
    "\n",
    "You don't have to worry about leading zeros in zip codes.\n",
    "'"
   ]
  },
  {
   "cell_type": "code",
   "execution_count": 11,
   "metadata": {},
   "outputs": [],
   "source": [
    "def user_contacts(data):\n",
    "    contacts  = {}\n",
    "    for dat in data:\n",
    "        if len(dat) == 1:\n",
    "            dat.append(None)\n",
    "            contacts[dat[0]] = dat[1]\n",
    "        else:\n",
    "            contacts[dat[0]] = dat[1]\n",
    "        \n",
    "    return contacts   "
   ]
  },
  {
   "cell_type": "code",
   "execution_count": 12,
   "metadata": {},
   "outputs": [
    {
     "name": "stdout",
     "output_type": "stream",
     "text": [
      "{'Grae Drake': 98110, 'Bethany Kok': None, 'Alex Nussbacher': 94101, 'Darrell Silver': 11201}\n"
     ]
    }
   ],
   "source": [
    "data = [[\"Grae Drake\", 98110], [\"Bethany Kok\"], [\"Alex Nussbacher\", 94101], [\"Darrell Silver\", 11201]]\n",
    "expected_result = {'Grae Drake': 98110, 'Darrell Silver': 11201, 'Alex Nussbacher': 94101, 'Bethany Kok': None}\n",
    "print(user_contacts(data))"
   ]
  },
  {
   "cell_type": "markdown",
   "metadata": {},
   "source": [
    "# Thinkful - Dictionary Drills: Multiple Modes\n",
    "'You probably know that the \"mode\" of a set of data is the data point that appears most frequently. Looking at the characters that make up the string \"sarsaparilla\" we can see that the letter \"a\" appears four times, more than any other letter, so the mode of \"sarsaparilla\" is \"a\".\n",
    "\n",
    "But do you know what happens when two or more data points occur the most? For example, what is the mode of the letters in \"tomato\"? Both \"t\" and \"o\" seem to be tied for appearing most frequently.\n",
    "\n",
    "Turns out that a set of data can, in fact, have multiple modes, so \"tomato\" has two modes: \"t\" and \"o\". It's important to note, though, that if all data appears the same number of times there is no mode. So \"cat\", \"redder\", and [1, 2, 3, 4, 5] do not have a mode.\n",
    "\n",
    "Your job is to write a function modes() that will accept one argument data that is a sequence like a string or a list of numbers and return a sorted list containing the mode(s) of the input sequence. If data does not contain a mode you should return an empty list.\n",
    "\n",
    "For example:\n",
    "\n",
    ">>> modes(\"tomato\")\n",
    "[\"o\", \"t\"]\n",
    ">>> modes([1, 3, 3, 7])\n",
    "[3]\n",
    ">>> modes([\"redder\"])\n",
    "[]\n",
    "\n",
    "You can trust that your input data will always be a sequence and will always contain orderable types (no inputs like [1, 2, 2, \"a\", \"b\", \"b\"]).\n",
    "'"
   ]
  },
  {
   "cell_type": "code",
   "execution_count": 7,
   "metadata": {},
   "outputs": [],
   "source": [
    "# I passed the third sample test, but the the data does not match the instructions.\n",
    "# It's a list with containing a single string, not a sequence\n",
    "def modes(data):\n",
    "    count = {}\n",
    "    all_modes = []\n",
    "    for dat in data:\n",
    "        try:              count[dat] += count[dat]\n",
    "        except KeyError:  count[dat] = 1\n",
    "    for k,v in count.items():\n",
    "        if v == max(count.values()):\n",
    "            all_modes.append(k) \n",
    "    all_modes.sort()        \n",
    "    if len(all_modes) == len(count):  return []\n",
    "    else:                             return all_modes\n",
    "        \n",
    "        \n",
    "        "
   ]
  },
  {
   "cell_type": "code",
   "execution_count": 8,
   "metadata": {},
   "outputs": [
    {
     "name": "stdout",
     "output_type": "stream",
     "text": [
      "2\n",
      "['o', 't']\n",
      "2\n",
      "[3]\n",
      "2\n",
      "[]\n"
     ]
    }
   ],
   "source": [
    "print(modes(\"tomato\"))#, [\"o\", \"t\"])\n",
    "print(modes([1, 3, 3, 7]))#, [3])\n",
    "print(modes(\"redder\"))#, [])"
   ]
  }
 ],
 "metadata": {
  "kernelspec": {
   "display_name": "Python 3",
   "language": "python",
   "name": "python3"
  },
  "language_info": {
   "codemirror_mode": {
    "name": "ipython",
    "version": 3
   },
   "file_extension": ".py",
   "mimetype": "text/x-python",
   "name": "python",
   "nbconvert_exporter": "python",
   "pygments_lexer": "ipython3",
   "version": "3.7.0"
  }
 },
 "nbformat": 4,
 "nbformat_minor": 2
}
